{
  "nbformat": 4,
  "nbformat_minor": 0,
  "metadata": {
    "colab": {
      "provenance": [],
      "toc_visible": true,
      "mount_file_id": "1kHky9vU3D5Hj-QvufLUhfov4fYdQLFS2",
      "authorship_tag": "ABX9TyPR5w/vMA+GfbvUVGNhN/lc",
      "include_colab_link": true
    },
    "kernelspec": {
      "name": "python3",
      "display_name": "Python 3"
    },
    "language_info": {
      "name": "python"
    }
  },
  "cells": [
    {
      "cell_type": "markdown",
      "metadata": {
        "id": "view-in-github",
        "colab_type": "text"
      },
      "source": [
        "<a href=\"https://colab.research.google.com/github/daaariada/MAI_ML_2023/blob/main/Coursework_ShadaiMukhanovSmirnov_107.ipynb\" target=\"_parent\"><img src=\"https://colab.research.google.com/assets/colab-badge.svg\" alt=\"Open In Colab\"/></a>"
      ]
    },
    {
      "cell_type": "markdown",
      "source": [
        "Работу выполнили:\n",
        "\n",
        "Шадай Дарья М8О-107М-23\n",
        "\n",
        "Муханов Дмитрий М8О-107М-23\n",
        "\n",
        "Смирнов Олег М8О-107М-23"
      ],
      "metadata": {
        "id": "PqdBLF7fx5Zq"
      }
    },
    {
      "cell_type": "markdown",
      "source": [
        "За основу выбран датасет Laptop Price (https://www.kaggle.com/datasets/muhammetvarl/laptop-price)"
      ],
      "metadata": {
        "id": "A2n10pC1yIbl"
      }
    },
    {
      "cell_type": "markdown",
      "source": [
        "# Описание датасета"
      ],
      "metadata": {
        "id": "ja-GGWtqyqWD"
      }
    },
    {
      "cell_type": "markdown",
      "source": [
        "Датасет представлен следующими колонками:\n",
        "\n",
        "\n",
        "\n",
        "1. Company - String - Производитель ноутбука\n",
        "2. Product - String - Бренд и модель\n",
        "3. TypeName - String - Тип ноутбука (Notebook, Ultrabook, Gaming, etc.)\n",
        "4. Inches - Numeric - Диагональ\n",
        "5. ScreenResolution - String - Разрешение экрана\n",
        "6. Cpu- String - CPU\n",
        "7. Ram - String - RAM\n",
        "8. Memory - String - HDD/SSD\n",
        "9. GPU - String - GPU\n",
        "10. OpSys - String - Операционная система\n",
        "11. Weight - String - Вес\n",
        "12. Price_euros - Numeric - Стоимость ноутбука в евро\n",
        "\n"
      ],
      "metadata": {
        "id": "Xjr-ednwqtZF"
      }
    },
    {
      "cell_type": "code",
      "execution_count": null,
      "metadata": {
        "id": "zAqKbgGk_klC"
      },
      "outputs": [],
      "source": [
        "import pandas as pd\n",
        "import numpy as np\n",
        "import regex as re\n",
        "from sklearn.model_selection import train_test_split\n",
        "from sklearn.metrics import mean_squared_error, r2_score\n",
        "from sklearn.preprocessing import LabelEncoder\n",
        "from sklearn.ensemble import RandomForestRegressor\n",
        "import matplotlib.pyplot as plt\n",
        "import seaborn as sns\n",
        "\n",
        "seed = 42"
      ]
    },
    {
      "cell_type": "code",
      "source": [
        "# Подключение к гугл-диску, на котором лежит датасет\n",
        "from google.colab import drive\n",
        "drive.mount('/content/drive')"
      ],
      "metadata": {
        "colab": {
          "base_uri": "https://localhost:8080/"
        },
        "id": "YJXHDOvHElQx",
        "outputId": "bc3198bc-6d17-4e86-d0a2-2250a96d7bf4"
      },
      "execution_count": null,
      "outputs": [
        {
          "output_type": "stream",
          "name": "stdout",
          "text": [
            "Drive already mounted at /content/drive; to attempt to forcibly remount, call drive.mount(\"/content/drive\", force_remount=True).\n"
          ]
        }
      ]
    },
    {
      "cell_type": "code",
      "source": [
        "# Выводим первые несколько строк датасета\n",
        "df = pd.read_csv(\"/content/drive/MyDrive/Colab Notebooks/laptop_price.csv\", encoding='latin1')\n",
        "df.head()"
      ],
      "metadata": {
        "colab": {
          "base_uri": "https://localhost:8080/",
          "height": 414
        },
        "id": "-AfJQhTeVnnA",
        "outputId": "ff76755e-b4b4-4f97-fd2d-2e8156b31107"
      },
      "execution_count": null,
      "outputs": [
        {
          "output_type": "execute_result",
          "data": {
            "text/plain": [
              "   laptop_ID Company      Product   TypeName  Inches  \\\n",
              "0          1   Apple  MacBook Pro  Ultrabook    13.3   \n",
              "1          2   Apple  Macbook Air  Ultrabook    13.3   \n",
              "2          3      HP       250 G6   Notebook    15.6   \n",
              "3          4   Apple  MacBook Pro  Ultrabook    15.4   \n",
              "4          5   Apple  MacBook Pro  Ultrabook    13.3   \n",
              "\n",
              "                     ScreenResolution                         Cpu   Ram  \\\n",
              "0  IPS Panel Retina Display 2560x1600        Intel Core i5 2.3GHz   8GB   \n",
              "1                            1440x900        Intel Core i5 1.8GHz   8GB   \n",
              "2                   Full HD 1920x1080  Intel Core i5 7200U 2.5GHz   8GB   \n",
              "3  IPS Panel Retina Display 2880x1800        Intel Core i7 2.7GHz  16GB   \n",
              "4  IPS Panel Retina Display 2560x1600        Intel Core i5 3.1GHz   8GB   \n",
              "\n",
              "                Memory                           Gpu  OpSys  Weight  \\\n",
              "0            128GB SSD  Intel Iris Plus Graphics 640  macOS  1.37kg   \n",
              "1  128GB Flash Storage        Intel HD Graphics 6000  macOS  1.34kg   \n",
              "2            256GB SSD         Intel HD Graphics 620  No OS  1.86kg   \n",
              "3            512GB SSD            AMD Radeon Pro 455  macOS  1.83kg   \n",
              "4            256GB SSD  Intel Iris Plus Graphics 650  macOS  1.37kg   \n",
              "\n",
              "   Price_euros  \n",
              "0      1339.69  \n",
              "1       898.94  \n",
              "2       575.00  \n",
              "3      2537.45  \n",
              "4      1803.60  "
            ],
            "text/html": [
              "\n",
              "  <div id=\"df-38963f08-32f3-412a-af8c-029d638f70c9\" class=\"colab-df-container\">\n",
              "    <div>\n",
              "<style scoped>\n",
              "    .dataframe tbody tr th:only-of-type {\n",
              "        vertical-align: middle;\n",
              "    }\n",
              "\n",
              "    .dataframe tbody tr th {\n",
              "        vertical-align: top;\n",
              "    }\n",
              "\n",
              "    .dataframe thead th {\n",
              "        text-align: right;\n",
              "    }\n",
              "</style>\n",
              "<table border=\"1\" class=\"dataframe\">\n",
              "  <thead>\n",
              "    <tr style=\"text-align: right;\">\n",
              "      <th></th>\n",
              "      <th>laptop_ID</th>\n",
              "      <th>Company</th>\n",
              "      <th>Product</th>\n",
              "      <th>TypeName</th>\n",
              "      <th>Inches</th>\n",
              "      <th>ScreenResolution</th>\n",
              "      <th>Cpu</th>\n",
              "      <th>Ram</th>\n",
              "      <th>Memory</th>\n",
              "      <th>Gpu</th>\n",
              "      <th>OpSys</th>\n",
              "      <th>Weight</th>\n",
              "      <th>Price_euros</th>\n",
              "    </tr>\n",
              "  </thead>\n",
              "  <tbody>\n",
              "    <tr>\n",
              "      <th>0</th>\n",
              "      <td>1</td>\n",
              "      <td>Apple</td>\n",
              "      <td>MacBook Pro</td>\n",
              "      <td>Ultrabook</td>\n",
              "      <td>13.3</td>\n",
              "      <td>IPS Panel Retina Display 2560x1600</td>\n",
              "      <td>Intel Core i5 2.3GHz</td>\n",
              "      <td>8GB</td>\n",
              "      <td>128GB SSD</td>\n",
              "      <td>Intel Iris Plus Graphics 640</td>\n",
              "      <td>macOS</td>\n",
              "      <td>1.37kg</td>\n",
              "      <td>1339.69</td>\n",
              "    </tr>\n",
              "    <tr>\n",
              "      <th>1</th>\n",
              "      <td>2</td>\n",
              "      <td>Apple</td>\n",
              "      <td>Macbook Air</td>\n",
              "      <td>Ultrabook</td>\n",
              "      <td>13.3</td>\n",
              "      <td>1440x900</td>\n",
              "      <td>Intel Core i5 1.8GHz</td>\n",
              "      <td>8GB</td>\n",
              "      <td>128GB Flash Storage</td>\n",
              "      <td>Intel HD Graphics 6000</td>\n",
              "      <td>macOS</td>\n",
              "      <td>1.34kg</td>\n",
              "      <td>898.94</td>\n",
              "    </tr>\n",
              "    <tr>\n",
              "      <th>2</th>\n",
              "      <td>3</td>\n",
              "      <td>HP</td>\n",
              "      <td>250 G6</td>\n",
              "      <td>Notebook</td>\n",
              "      <td>15.6</td>\n",
              "      <td>Full HD 1920x1080</td>\n",
              "      <td>Intel Core i5 7200U 2.5GHz</td>\n",
              "      <td>8GB</td>\n",
              "      <td>256GB SSD</td>\n",
              "      <td>Intel HD Graphics 620</td>\n",
              "      <td>No OS</td>\n",
              "      <td>1.86kg</td>\n",
              "      <td>575.00</td>\n",
              "    </tr>\n",
              "    <tr>\n",
              "      <th>3</th>\n",
              "      <td>4</td>\n",
              "      <td>Apple</td>\n",
              "      <td>MacBook Pro</td>\n",
              "      <td>Ultrabook</td>\n",
              "      <td>15.4</td>\n",
              "      <td>IPS Panel Retina Display 2880x1800</td>\n",
              "      <td>Intel Core i7 2.7GHz</td>\n",
              "      <td>16GB</td>\n",
              "      <td>512GB SSD</td>\n",
              "      <td>AMD Radeon Pro 455</td>\n",
              "      <td>macOS</td>\n",
              "      <td>1.83kg</td>\n",
              "      <td>2537.45</td>\n",
              "    </tr>\n",
              "    <tr>\n",
              "      <th>4</th>\n",
              "      <td>5</td>\n",
              "      <td>Apple</td>\n",
              "      <td>MacBook Pro</td>\n",
              "      <td>Ultrabook</td>\n",
              "      <td>13.3</td>\n",
              "      <td>IPS Panel Retina Display 2560x1600</td>\n",
              "      <td>Intel Core i5 3.1GHz</td>\n",
              "      <td>8GB</td>\n",
              "      <td>256GB SSD</td>\n",
              "      <td>Intel Iris Plus Graphics 650</td>\n",
              "      <td>macOS</td>\n",
              "      <td>1.37kg</td>\n",
              "      <td>1803.60</td>\n",
              "    </tr>\n",
              "  </tbody>\n",
              "</table>\n",
              "</div>\n",
              "    <div class=\"colab-df-buttons\">\n",
              "\n",
              "  <div class=\"colab-df-container\">\n",
              "    <button class=\"colab-df-convert\" onclick=\"convertToInteractive('df-38963f08-32f3-412a-af8c-029d638f70c9')\"\n",
              "            title=\"Convert this dataframe to an interactive table.\"\n",
              "            style=\"display:none;\">\n",
              "\n",
              "  <svg xmlns=\"http://www.w3.org/2000/svg\" height=\"24px\" viewBox=\"0 -960 960 960\">\n",
              "    <path d=\"M120-120v-720h720v720H120Zm60-500h600v-160H180v160Zm220 220h160v-160H400v160Zm0 220h160v-160H400v160ZM180-400h160v-160H180v160Zm440 0h160v-160H620v160ZM180-180h160v-160H180v160Zm440 0h160v-160H620v160Z\"/>\n",
              "  </svg>\n",
              "    </button>\n",
              "\n",
              "  <style>\n",
              "    .colab-df-container {\n",
              "      display:flex;\n",
              "      gap: 12px;\n",
              "    }\n",
              "\n",
              "    .colab-df-convert {\n",
              "      background-color: #E8F0FE;\n",
              "      border: none;\n",
              "      border-radius: 50%;\n",
              "      cursor: pointer;\n",
              "      display: none;\n",
              "      fill: #1967D2;\n",
              "      height: 32px;\n",
              "      padding: 0 0 0 0;\n",
              "      width: 32px;\n",
              "    }\n",
              "\n",
              "    .colab-df-convert:hover {\n",
              "      background-color: #E2EBFA;\n",
              "      box-shadow: 0px 1px 2px rgba(60, 64, 67, 0.3), 0px 1px 3px 1px rgba(60, 64, 67, 0.15);\n",
              "      fill: #174EA6;\n",
              "    }\n",
              "\n",
              "    .colab-df-buttons div {\n",
              "      margin-bottom: 4px;\n",
              "    }\n",
              "\n",
              "    [theme=dark] .colab-df-convert {\n",
              "      background-color: #3B4455;\n",
              "      fill: #D2E3FC;\n",
              "    }\n",
              "\n",
              "    [theme=dark] .colab-df-convert:hover {\n",
              "      background-color: #434B5C;\n",
              "      box-shadow: 0px 1px 3px 1px rgba(0, 0, 0, 0.15);\n",
              "      filter: drop-shadow(0px 1px 2px rgba(0, 0, 0, 0.3));\n",
              "      fill: #FFFFFF;\n",
              "    }\n",
              "  </style>\n",
              "\n",
              "    <script>\n",
              "      const buttonEl =\n",
              "        document.querySelector('#df-38963f08-32f3-412a-af8c-029d638f70c9 button.colab-df-convert');\n",
              "      buttonEl.style.display =\n",
              "        google.colab.kernel.accessAllowed ? 'block' : 'none';\n",
              "\n",
              "      async function convertToInteractive(key) {\n",
              "        const element = document.querySelector('#df-38963f08-32f3-412a-af8c-029d638f70c9');\n",
              "        const dataTable =\n",
              "          await google.colab.kernel.invokeFunction('convertToInteractive',\n",
              "                                                    [key], {});\n",
              "        if (!dataTable) return;\n",
              "\n",
              "        const docLinkHtml = 'Like what you see? Visit the ' +\n",
              "          '<a target=\"_blank\" href=https://colab.research.google.com/notebooks/data_table.ipynb>data table notebook</a>'\n",
              "          + ' to learn more about interactive tables.';\n",
              "        element.innerHTML = '';\n",
              "        dataTable['output_type'] = 'display_data';\n",
              "        await google.colab.output.renderOutput(dataTable, element);\n",
              "        const docLink = document.createElement('div');\n",
              "        docLink.innerHTML = docLinkHtml;\n",
              "        element.appendChild(docLink);\n",
              "      }\n",
              "    </script>\n",
              "  </div>\n",
              "\n",
              "\n",
              "<div id=\"df-0b6b1aac-421b-4f06-a4af-824c1bd9676b\">\n",
              "  <button class=\"colab-df-quickchart\" onclick=\"quickchart('df-0b6b1aac-421b-4f06-a4af-824c1bd9676b')\"\n",
              "            title=\"Suggest charts\"\n",
              "            style=\"display:none;\">\n",
              "\n",
              "<svg xmlns=\"http://www.w3.org/2000/svg\" height=\"24px\"viewBox=\"0 0 24 24\"\n",
              "     width=\"24px\">\n",
              "    <g>\n",
              "        <path d=\"M19 3H5c-1.1 0-2 .9-2 2v14c0 1.1.9 2 2 2h14c1.1 0 2-.9 2-2V5c0-1.1-.9-2-2-2zM9 17H7v-7h2v7zm4 0h-2V7h2v10zm4 0h-2v-4h2v4z\"/>\n",
              "    </g>\n",
              "</svg>\n",
              "  </button>\n",
              "\n",
              "<style>\n",
              "  .colab-df-quickchart {\n",
              "      --bg-color: #E8F0FE;\n",
              "      --fill-color: #1967D2;\n",
              "      --hover-bg-color: #E2EBFA;\n",
              "      --hover-fill-color: #174EA6;\n",
              "      --disabled-fill-color: #AAA;\n",
              "      --disabled-bg-color: #DDD;\n",
              "  }\n",
              "\n",
              "  [theme=dark] .colab-df-quickchart {\n",
              "      --bg-color: #3B4455;\n",
              "      --fill-color: #D2E3FC;\n",
              "      --hover-bg-color: #434B5C;\n",
              "      --hover-fill-color: #FFFFFF;\n",
              "      --disabled-bg-color: #3B4455;\n",
              "      --disabled-fill-color: #666;\n",
              "  }\n",
              "\n",
              "  .colab-df-quickchart {\n",
              "    background-color: var(--bg-color);\n",
              "    border: none;\n",
              "    border-radius: 50%;\n",
              "    cursor: pointer;\n",
              "    display: none;\n",
              "    fill: var(--fill-color);\n",
              "    height: 32px;\n",
              "    padding: 0;\n",
              "    width: 32px;\n",
              "  }\n",
              "\n",
              "  .colab-df-quickchart:hover {\n",
              "    background-color: var(--hover-bg-color);\n",
              "    box-shadow: 0 1px 2px rgba(60, 64, 67, 0.3), 0 1px 3px 1px rgba(60, 64, 67, 0.15);\n",
              "    fill: var(--button-hover-fill-color);\n",
              "  }\n",
              "\n",
              "  .colab-df-quickchart-complete:disabled,\n",
              "  .colab-df-quickchart-complete:disabled:hover {\n",
              "    background-color: var(--disabled-bg-color);\n",
              "    fill: var(--disabled-fill-color);\n",
              "    box-shadow: none;\n",
              "  }\n",
              "\n",
              "  .colab-df-spinner {\n",
              "    border: 2px solid var(--fill-color);\n",
              "    border-color: transparent;\n",
              "    border-bottom-color: var(--fill-color);\n",
              "    animation:\n",
              "      spin 1s steps(1) infinite;\n",
              "  }\n",
              "\n",
              "  @keyframes spin {\n",
              "    0% {\n",
              "      border-color: transparent;\n",
              "      border-bottom-color: var(--fill-color);\n",
              "      border-left-color: var(--fill-color);\n",
              "    }\n",
              "    20% {\n",
              "      border-color: transparent;\n",
              "      border-left-color: var(--fill-color);\n",
              "      border-top-color: var(--fill-color);\n",
              "    }\n",
              "    30% {\n",
              "      border-color: transparent;\n",
              "      border-left-color: var(--fill-color);\n",
              "      border-top-color: var(--fill-color);\n",
              "      border-right-color: var(--fill-color);\n",
              "    }\n",
              "    40% {\n",
              "      border-color: transparent;\n",
              "      border-right-color: var(--fill-color);\n",
              "      border-top-color: var(--fill-color);\n",
              "    }\n",
              "    60% {\n",
              "      border-color: transparent;\n",
              "      border-right-color: var(--fill-color);\n",
              "    }\n",
              "    80% {\n",
              "      border-color: transparent;\n",
              "      border-right-color: var(--fill-color);\n",
              "      border-bottom-color: var(--fill-color);\n",
              "    }\n",
              "    90% {\n",
              "      border-color: transparent;\n",
              "      border-bottom-color: var(--fill-color);\n",
              "    }\n",
              "  }\n",
              "</style>\n",
              "\n",
              "  <script>\n",
              "    async function quickchart(key) {\n",
              "      const quickchartButtonEl =\n",
              "        document.querySelector('#' + key + ' button');\n",
              "      quickchartButtonEl.disabled = true;  // To prevent multiple clicks.\n",
              "      quickchartButtonEl.classList.add('colab-df-spinner');\n",
              "      try {\n",
              "        const charts = await google.colab.kernel.invokeFunction(\n",
              "            'suggestCharts', [key], {});\n",
              "      } catch (error) {\n",
              "        console.error('Error during call to suggestCharts:', error);\n",
              "      }\n",
              "      quickchartButtonEl.classList.remove('colab-df-spinner');\n",
              "      quickchartButtonEl.classList.add('colab-df-quickchart-complete');\n",
              "    }\n",
              "    (() => {\n",
              "      let quickchartButtonEl =\n",
              "        document.querySelector('#df-0b6b1aac-421b-4f06-a4af-824c1bd9676b button');\n",
              "      quickchartButtonEl.style.display =\n",
              "        google.colab.kernel.accessAllowed ? 'block' : 'none';\n",
              "    })();\n",
              "  </script>\n",
              "</div>\n",
              "    </div>\n",
              "  </div>\n"
            ]
          },
          "metadata": {},
          "execution_count": 763
        }
      ]
    },
    {
      "cell_type": "code",
      "source": [
        "df.info()"
      ],
      "metadata": {
        "colab": {
          "base_uri": "https://localhost:8080/"
        },
        "id": "-_-2bvmnVsiP",
        "outputId": "8cc2a812-d15e-41c3-d4c7-ec1bd3b49873"
      },
      "execution_count": null,
      "outputs": [
        {
          "output_type": "stream",
          "name": "stdout",
          "text": [
            "<class 'pandas.core.frame.DataFrame'>\n",
            "RangeIndex: 1303 entries, 0 to 1302\n",
            "Data columns (total 13 columns):\n",
            " #   Column            Non-Null Count  Dtype  \n",
            "---  ------            --------------  -----  \n",
            " 0   laptop_ID         1303 non-null   int64  \n",
            " 1   Company           1303 non-null   object \n",
            " 2   Product           1303 non-null   object \n",
            " 3   TypeName          1303 non-null   object \n",
            " 4   Inches            1303 non-null   float64\n",
            " 5   ScreenResolution  1303 non-null   object \n",
            " 6   Cpu               1303 non-null   object \n",
            " 7   Ram               1303 non-null   object \n",
            " 8   Memory            1303 non-null   object \n",
            " 9   Gpu               1303 non-null   object \n",
            " 10  OpSys             1303 non-null   object \n",
            " 11  Weight            1303 non-null   object \n",
            " 12  Price_euros       1303 non-null   float64\n",
            "dtypes: float64(2), int64(1), object(10)\n",
            "memory usage: 132.5+ KB\n"
          ]
        }
      ]
    },
    {
      "cell_type": "markdown",
      "source": [
        "Числовых колонки всего две — Inches и Price_euros. Для простоты дальнейшей обработки, попробуем перевести и другие колонки в числовые.\n",
        "\n"
      ],
      "metadata": {
        "id": "TrV-91Elzby4"
      }
    },
    {
      "cell_type": "code",
      "source": [
        "df.describe()"
      ],
      "metadata": {
        "colab": {
          "base_uri": "https://localhost:8080/",
          "height": 300
        },
        "id": "QwHS5jU2soEB",
        "outputId": "4a6ec552-ebe7-4123-f4aa-12e5dd31abc6"
      },
      "execution_count": null,
      "outputs": [
        {
          "output_type": "execute_result",
          "data": {
            "text/plain": [
              "         laptop_ID       Inches  Price_euros\n",
              "count  1303.000000  1303.000000  1303.000000\n",
              "mean    660.155794    15.017191  1123.686992\n",
              "std     381.172104     1.426304   699.009043\n",
              "min       1.000000    10.100000   174.000000\n",
              "25%     331.500000    14.000000   599.000000\n",
              "50%     659.000000    15.600000   977.000000\n",
              "75%     990.500000    15.600000  1487.880000\n",
              "max    1320.000000    18.400000  6099.000000"
            ],
            "text/html": [
              "\n",
              "  <div id=\"df-86028410-ccaa-42e0-bc52-50279e2772ec\" class=\"colab-df-container\">\n",
              "    <div>\n",
              "<style scoped>\n",
              "    .dataframe tbody tr th:only-of-type {\n",
              "        vertical-align: middle;\n",
              "    }\n",
              "\n",
              "    .dataframe tbody tr th {\n",
              "        vertical-align: top;\n",
              "    }\n",
              "\n",
              "    .dataframe thead th {\n",
              "        text-align: right;\n",
              "    }\n",
              "</style>\n",
              "<table border=\"1\" class=\"dataframe\">\n",
              "  <thead>\n",
              "    <tr style=\"text-align: right;\">\n",
              "      <th></th>\n",
              "      <th>laptop_ID</th>\n",
              "      <th>Inches</th>\n",
              "      <th>Price_euros</th>\n",
              "    </tr>\n",
              "  </thead>\n",
              "  <tbody>\n",
              "    <tr>\n",
              "      <th>count</th>\n",
              "      <td>1303.000000</td>\n",
              "      <td>1303.000000</td>\n",
              "      <td>1303.000000</td>\n",
              "    </tr>\n",
              "    <tr>\n",
              "      <th>mean</th>\n",
              "      <td>660.155794</td>\n",
              "      <td>15.017191</td>\n",
              "      <td>1123.686992</td>\n",
              "    </tr>\n",
              "    <tr>\n",
              "      <th>std</th>\n",
              "      <td>381.172104</td>\n",
              "      <td>1.426304</td>\n",
              "      <td>699.009043</td>\n",
              "    </tr>\n",
              "    <tr>\n",
              "      <th>min</th>\n",
              "      <td>1.000000</td>\n",
              "      <td>10.100000</td>\n",
              "      <td>174.000000</td>\n",
              "    </tr>\n",
              "    <tr>\n",
              "      <th>25%</th>\n",
              "      <td>331.500000</td>\n",
              "      <td>14.000000</td>\n",
              "      <td>599.000000</td>\n",
              "    </tr>\n",
              "    <tr>\n",
              "      <th>50%</th>\n",
              "      <td>659.000000</td>\n",
              "      <td>15.600000</td>\n",
              "      <td>977.000000</td>\n",
              "    </tr>\n",
              "    <tr>\n",
              "      <th>75%</th>\n",
              "      <td>990.500000</td>\n",
              "      <td>15.600000</td>\n",
              "      <td>1487.880000</td>\n",
              "    </tr>\n",
              "    <tr>\n",
              "      <th>max</th>\n",
              "      <td>1320.000000</td>\n",
              "      <td>18.400000</td>\n",
              "      <td>6099.000000</td>\n",
              "    </tr>\n",
              "  </tbody>\n",
              "</table>\n",
              "</div>\n",
              "    <div class=\"colab-df-buttons\">\n",
              "\n",
              "  <div class=\"colab-df-container\">\n",
              "    <button class=\"colab-df-convert\" onclick=\"convertToInteractive('df-86028410-ccaa-42e0-bc52-50279e2772ec')\"\n",
              "            title=\"Convert this dataframe to an interactive table.\"\n",
              "            style=\"display:none;\">\n",
              "\n",
              "  <svg xmlns=\"http://www.w3.org/2000/svg\" height=\"24px\" viewBox=\"0 -960 960 960\">\n",
              "    <path d=\"M120-120v-720h720v720H120Zm60-500h600v-160H180v160Zm220 220h160v-160H400v160Zm0 220h160v-160H400v160ZM180-400h160v-160H180v160Zm440 0h160v-160H620v160ZM180-180h160v-160H180v160Zm440 0h160v-160H620v160Z\"/>\n",
              "  </svg>\n",
              "    </button>\n",
              "\n",
              "  <style>\n",
              "    .colab-df-container {\n",
              "      display:flex;\n",
              "      gap: 12px;\n",
              "    }\n",
              "\n",
              "    .colab-df-convert {\n",
              "      background-color: #E8F0FE;\n",
              "      border: none;\n",
              "      border-radius: 50%;\n",
              "      cursor: pointer;\n",
              "      display: none;\n",
              "      fill: #1967D2;\n",
              "      height: 32px;\n",
              "      padding: 0 0 0 0;\n",
              "      width: 32px;\n",
              "    }\n",
              "\n",
              "    .colab-df-convert:hover {\n",
              "      background-color: #E2EBFA;\n",
              "      box-shadow: 0px 1px 2px rgba(60, 64, 67, 0.3), 0px 1px 3px 1px rgba(60, 64, 67, 0.15);\n",
              "      fill: #174EA6;\n",
              "    }\n",
              "\n",
              "    .colab-df-buttons div {\n",
              "      margin-bottom: 4px;\n",
              "    }\n",
              "\n",
              "    [theme=dark] .colab-df-convert {\n",
              "      background-color: #3B4455;\n",
              "      fill: #D2E3FC;\n",
              "    }\n",
              "\n",
              "    [theme=dark] .colab-df-convert:hover {\n",
              "      background-color: #434B5C;\n",
              "      box-shadow: 0px 1px 3px 1px rgba(0, 0, 0, 0.15);\n",
              "      filter: drop-shadow(0px 1px 2px rgba(0, 0, 0, 0.3));\n",
              "      fill: #FFFFFF;\n",
              "    }\n",
              "  </style>\n",
              "\n",
              "    <script>\n",
              "      const buttonEl =\n",
              "        document.querySelector('#df-86028410-ccaa-42e0-bc52-50279e2772ec button.colab-df-convert');\n",
              "      buttonEl.style.display =\n",
              "        google.colab.kernel.accessAllowed ? 'block' : 'none';\n",
              "\n",
              "      async function convertToInteractive(key) {\n",
              "        const element = document.querySelector('#df-86028410-ccaa-42e0-bc52-50279e2772ec');\n",
              "        const dataTable =\n",
              "          await google.colab.kernel.invokeFunction('convertToInteractive',\n",
              "                                                    [key], {});\n",
              "        if (!dataTable) return;\n",
              "\n",
              "        const docLinkHtml = 'Like what you see? Visit the ' +\n",
              "          '<a target=\"_blank\" href=https://colab.research.google.com/notebooks/data_table.ipynb>data table notebook</a>'\n",
              "          + ' to learn more about interactive tables.';\n",
              "        element.innerHTML = '';\n",
              "        dataTable['output_type'] = 'display_data';\n",
              "        await google.colab.output.renderOutput(dataTable, element);\n",
              "        const docLink = document.createElement('div');\n",
              "        docLink.innerHTML = docLinkHtml;\n",
              "        element.appendChild(docLink);\n",
              "      }\n",
              "    </script>\n",
              "  </div>\n",
              "\n",
              "\n",
              "<div id=\"df-6d7f56c0-3dfc-44b7-aa2e-b49cea14b540\">\n",
              "  <button class=\"colab-df-quickchart\" onclick=\"quickchart('df-6d7f56c0-3dfc-44b7-aa2e-b49cea14b540')\"\n",
              "            title=\"Suggest charts\"\n",
              "            style=\"display:none;\">\n",
              "\n",
              "<svg xmlns=\"http://www.w3.org/2000/svg\" height=\"24px\"viewBox=\"0 0 24 24\"\n",
              "     width=\"24px\">\n",
              "    <g>\n",
              "        <path d=\"M19 3H5c-1.1 0-2 .9-2 2v14c0 1.1.9 2 2 2h14c1.1 0 2-.9 2-2V5c0-1.1-.9-2-2-2zM9 17H7v-7h2v7zm4 0h-2V7h2v10zm4 0h-2v-4h2v4z\"/>\n",
              "    </g>\n",
              "</svg>\n",
              "  </button>\n",
              "\n",
              "<style>\n",
              "  .colab-df-quickchart {\n",
              "      --bg-color: #E8F0FE;\n",
              "      --fill-color: #1967D2;\n",
              "      --hover-bg-color: #E2EBFA;\n",
              "      --hover-fill-color: #174EA6;\n",
              "      --disabled-fill-color: #AAA;\n",
              "      --disabled-bg-color: #DDD;\n",
              "  }\n",
              "\n",
              "  [theme=dark] .colab-df-quickchart {\n",
              "      --bg-color: #3B4455;\n",
              "      --fill-color: #D2E3FC;\n",
              "      --hover-bg-color: #434B5C;\n",
              "      --hover-fill-color: #FFFFFF;\n",
              "      --disabled-bg-color: #3B4455;\n",
              "      --disabled-fill-color: #666;\n",
              "  }\n",
              "\n",
              "  .colab-df-quickchart {\n",
              "    background-color: var(--bg-color);\n",
              "    border: none;\n",
              "    border-radius: 50%;\n",
              "    cursor: pointer;\n",
              "    display: none;\n",
              "    fill: var(--fill-color);\n",
              "    height: 32px;\n",
              "    padding: 0;\n",
              "    width: 32px;\n",
              "  }\n",
              "\n",
              "  .colab-df-quickchart:hover {\n",
              "    background-color: var(--hover-bg-color);\n",
              "    box-shadow: 0 1px 2px rgba(60, 64, 67, 0.3), 0 1px 3px 1px rgba(60, 64, 67, 0.15);\n",
              "    fill: var(--button-hover-fill-color);\n",
              "  }\n",
              "\n",
              "  .colab-df-quickchart-complete:disabled,\n",
              "  .colab-df-quickchart-complete:disabled:hover {\n",
              "    background-color: var(--disabled-bg-color);\n",
              "    fill: var(--disabled-fill-color);\n",
              "    box-shadow: none;\n",
              "  }\n",
              "\n",
              "  .colab-df-spinner {\n",
              "    border: 2px solid var(--fill-color);\n",
              "    border-color: transparent;\n",
              "    border-bottom-color: var(--fill-color);\n",
              "    animation:\n",
              "      spin 1s steps(1) infinite;\n",
              "  }\n",
              "\n",
              "  @keyframes spin {\n",
              "    0% {\n",
              "      border-color: transparent;\n",
              "      border-bottom-color: var(--fill-color);\n",
              "      border-left-color: var(--fill-color);\n",
              "    }\n",
              "    20% {\n",
              "      border-color: transparent;\n",
              "      border-left-color: var(--fill-color);\n",
              "      border-top-color: var(--fill-color);\n",
              "    }\n",
              "    30% {\n",
              "      border-color: transparent;\n",
              "      border-left-color: var(--fill-color);\n",
              "      border-top-color: var(--fill-color);\n",
              "      border-right-color: var(--fill-color);\n",
              "    }\n",
              "    40% {\n",
              "      border-color: transparent;\n",
              "      border-right-color: var(--fill-color);\n",
              "      border-top-color: var(--fill-color);\n",
              "    }\n",
              "    60% {\n",
              "      border-color: transparent;\n",
              "      border-right-color: var(--fill-color);\n",
              "    }\n",
              "    80% {\n",
              "      border-color: transparent;\n",
              "      border-right-color: var(--fill-color);\n",
              "      border-bottom-color: var(--fill-color);\n",
              "    }\n",
              "    90% {\n",
              "      border-color: transparent;\n",
              "      border-bottom-color: var(--fill-color);\n",
              "    }\n",
              "  }\n",
              "</style>\n",
              "\n",
              "  <script>\n",
              "    async function quickchart(key) {\n",
              "      const quickchartButtonEl =\n",
              "        document.querySelector('#' + key + ' button');\n",
              "      quickchartButtonEl.disabled = true;  // To prevent multiple clicks.\n",
              "      quickchartButtonEl.classList.add('colab-df-spinner');\n",
              "      try {\n",
              "        const charts = await google.colab.kernel.invokeFunction(\n",
              "            'suggestCharts', [key], {});\n",
              "      } catch (error) {\n",
              "        console.error('Error during call to suggestCharts:', error);\n",
              "      }\n",
              "      quickchartButtonEl.classList.remove('colab-df-spinner');\n",
              "      quickchartButtonEl.classList.add('colab-df-quickchart-complete');\n",
              "    }\n",
              "    (() => {\n",
              "      let quickchartButtonEl =\n",
              "        document.querySelector('#df-6d7f56c0-3dfc-44b7-aa2e-b49cea14b540 button');\n",
              "      quickchartButtonEl.style.display =\n",
              "        google.colab.kernel.accessAllowed ? 'block' : 'none';\n",
              "    })();\n",
              "  </script>\n",
              "</div>\n",
              "    </div>\n",
              "  </div>\n"
            ]
          },
          "metadata": {},
          "execution_count": 765
        }
      ]
    },
    {
      "cell_type": "markdown",
      "source": [
        "# Чистим датасет"
      ],
      "metadata": {
        "id": "1HDs-wfktIlD"
      }
    },
    {
      "cell_type": "markdown",
      "source": [
        "Для простоты, переведем названия колонок в нижний регистр и переименуем колонку 'price_euros' в 'price':"
      ],
      "metadata": {
        "id": "rzpE1I2zz9d4"
      }
    },
    {
      "cell_type": "code",
      "source": [
        "df = df.rename(columns=str.lower)\n",
        "df = df.rename(columns={'price_euros':'price'})\n",
        "df.columns"
      ],
      "metadata": {
        "colab": {
          "base_uri": "https://localhost:8080/"
        },
        "id": "YrXGxjQcsv_P",
        "outputId": "970216eb-02d5-42f2-99db-e5db23afa7e6"
      },
      "execution_count": null,
      "outputs": [
        {
          "output_type": "execute_result",
          "data": {
            "text/plain": [
              "Index(['laptop_id', 'company', 'product', 'typename', 'inches',\n",
              "       'screenresolution', 'cpu', 'ram', 'memory', 'gpu', 'opsys', 'weight',\n",
              "       'price'],\n",
              "      dtype='object')"
            ]
          },
          "metadata": {},
          "execution_count": 766
        }
      ]
    },
    {
      "cell_type": "markdown",
      "source": [
        "## Рассмотрим laptop_id\n"
      ],
      "metadata": {
        "id": "PfBJdTN8tSMI"
      }
    },
    {
      "cell_type": "code",
      "source": [
        "df['laptop_id']"
      ],
      "metadata": {
        "colab": {
          "base_uri": "https://localhost:8080/"
        },
        "id": "2O4LVt5Cs24E",
        "outputId": "2cfd328c-ff5e-4927-d52b-d56daf6cb142"
      },
      "execution_count": null,
      "outputs": [
        {
          "output_type": "execute_result",
          "data": {
            "text/plain": [
              "0          1\n",
              "1          2\n",
              "2          3\n",
              "3          4\n",
              "4          5\n",
              "        ... \n",
              "1298    1316\n",
              "1299    1317\n",
              "1300    1318\n",
              "1301    1319\n",
              "1302    1320\n",
              "Name: laptop_id, Length: 1303, dtype: int64"
            ]
          },
          "metadata": {},
          "execution_count": 767
        }
      ]
    },
    {
      "cell_type": "markdown",
      "source": [
        "Можно увидеть, что в конце laptop_id отличается от индекса. Найдем, с чего началась путаница:"
      ],
      "metadata": {
        "id": "79kkeTBl0SnA"
      }
    },
    {
      "cell_type": "code",
      "source": [
        "ind=0\n",
        "for i in df['laptop_id']:\n",
        "    if ind+1 != i:\n",
        "        print(i)\n",
        "        break\n",
        "    ind+=1"
      ],
      "metadata": {
        "colab": {
          "base_uri": "https://localhost:8080/"
        },
        "id": "k_nTxxnvs_k9",
        "outputId": "2c7f08c9-3e08-4071-e17f-6796b1de6edb"
      },
      "execution_count": null,
      "outputs": [
        {
          "output_type": "stream",
          "name": "stdout",
          "text": [
            "66\n"
          ]
        }
      ]
    },
    {
      "cell_type": "code",
      "source": [
        "df[df['laptop_id']==66]"
      ],
      "metadata": {
        "colab": {
          "base_uri": "https://localhost:8080/",
          "height": 98
        },
        "id": "ZoEMB_ZBtDL0",
        "outputId": "aa6e3ce0-5509-4d78-930a-8956b6d7223a"
      },
      "execution_count": null,
      "outputs": [
        {
          "output_type": "execute_result",
          "data": {
            "text/plain": [
              "    laptop_id company product  typename  inches   screenresolution  \\\n",
              "64         66      HP  250 G6  Notebook    15.6  Full HD 1920x1080   \n",
              "\n",
              "                           cpu  ram     memory                    gpu  \\\n",
              "64  Intel Core i5 7200U 2.5GHz  8GB  256GB SSD  Intel HD Graphics 620   \n",
              "\n",
              "         opsys  weight  price  \n",
              "64  Windows 10  1.86kg  690.0  "
            ],
            "text/html": [
              "\n",
              "  <div id=\"df-deb83c55-d67a-4add-a053-5097c6497e17\" class=\"colab-df-container\">\n",
              "    <div>\n",
              "<style scoped>\n",
              "    .dataframe tbody tr th:only-of-type {\n",
              "        vertical-align: middle;\n",
              "    }\n",
              "\n",
              "    .dataframe tbody tr th {\n",
              "        vertical-align: top;\n",
              "    }\n",
              "\n",
              "    .dataframe thead th {\n",
              "        text-align: right;\n",
              "    }\n",
              "</style>\n",
              "<table border=\"1\" class=\"dataframe\">\n",
              "  <thead>\n",
              "    <tr style=\"text-align: right;\">\n",
              "      <th></th>\n",
              "      <th>laptop_id</th>\n",
              "      <th>company</th>\n",
              "      <th>product</th>\n",
              "      <th>typename</th>\n",
              "      <th>inches</th>\n",
              "      <th>screenresolution</th>\n",
              "      <th>cpu</th>\n",
              "      <th>ram</th>\n",
              "      <th>memory</th>\n",
              "      <th>gpu</th>\n",
              "      <th>opsys</th>\n",
              "      <th>weight</th>\n",
              "      <th>price</th>\n",
              "    </tr>\n",
              "  </thead>\n",
              "  <tbody>\n",
              "    <tr>\n",
              "      <th>64</th>\n",
              "      <td>66</td>\n",
              "      <td>HP</td>\n",
              "      <td>250 G6</td>\n",
              "      <td>Notebook</td>\n",
              "      <td>15.6</td>\n",
              "      <td>Full HD 1920x1080</td>\n",
              "      <td>Intel Core i5 7200U 2.5GHz</td>\n",
              "      <td>8GB</td>\n",
              "      <td>256GB SSD</td>\n",
              "      <td>Intel HD Graphics 620</td>\n",
              "      <td>Windows 10</td>\n",
              "      <td>1.86kg</td>\n",
              "      <td>690.0</td>\n",
              "    </tr>\n",
              "  </tbody>\n",
              "</table>\n",
              "</div>\n",
              "    <div class=\"colab-df-buttons\">\n",
              "\n",
              "  <div class=\"colab-df-container\">\n",
              "    <button class=\"colab-df-convert\" onclick=\"convertToInteractive('df-deb83c55-d67a-4add-a053-5097c6497e17')\"\n",
              "            title=\"Convert this dataframe to an interactive table.\"\n",
              "            style=\"display:none;\">\n",
              "\n",
              "  <svg xmlns=\"http://www.w3.org/2000/svg\" height=\"24px\" viewBox=\"0 -960 960 960\">\n",
              "    <path d=\"M120-120v-720h720v720H120Zm60-500h600v-160H180v160Zm220 220h160v-160H400v160Zm0 220h160v-160H400v160ZM180-400h160v-160H180v160Zm440 0h160v-160H620v160ZM180-180h160v-160H180v160Zm440 0h160v-160H620v160Z\"/>\n",
              "  </svg>\n",
              "    </button>\n",
              "\n",
              "  <style>\n",
              "    .colab-df-container {\n",
              "      display:flex;\n",
              "      gap: 12px;\n",
              "    }\n",
              "\n",
              "    .colab-df-convert {\n",
              "      background-color: #E8F0FE;\n",
              "      border: none;\n",
              "      border-radius: 50%;\n",
              "      cursor: pointer;\n",
              "      display: none;\n",
              "      fill: #1967D2;\n",
              "      height: 32px;\n",
              "      padding: 0 0 0 0;\n",
              "      width: 32px;\n",
              "    }\n",
              "\n",
              "    .colab-df-convert:hover {\n",
              "      background-color: #E2EBFA;\n",
              "      box-shadow: 0px 1px 2px rgba(60, 64, 67, 0.3), 0px 1px 3px 1px rgba(60, 64, 67, 0.15);\n",
              "      fill: #174EA6;\n",
              "    }\n",
              "\n",
              "    .colab-df-buttons div {\n",
              "      margin-bottom: 4px;\n",
              "    }\n",
              "\n",
              "    [theme=dark] .colab-df-convert {\n",
              "      background-color: #3B4455;\n",
              "      fill: #D2E3FC;\n",
              "    }\n",
              "\n",
              "    [theme=dark] .colab-df-convert:hover {\n",
              "      background-color: #434B5C;\n",
              "      box-shadow: 0px 1px 3px 1px rgba(0, 0, 0, 0.15);\n",
              "      filter: drop-shadow(0px 1px 2px rgba(0, 0, 0, 0.3));\n",
              "      fill: #FFFFFF;\n",
              "    }\n",
              "  </style>\n",
              "\n",
              "    <script>\n",
              "      const buttonEl =\n",
              "        document.querySelector('#df-deb83c55-d67a-4add-a053-5097c6497e17 button.colab-df-convert');\n",
              "      buttonEl.style.display =\n",
              "        google.colab.kernel.accessAllowed ? 'block' : 'none';\n",
              "\n",
              "      async function convertToInteractive(key) {\n",
              "        const element = document.querySelector('#df-deb83c55-d67a-4add-a053-5097c6497e17');\n",
              "        const dataTable =\n",
              "          await google.colab.kernel.invokeFunction('convertToInteractive',\n",
              "                                                    [key], {});\n",
              "        if (!dataTable) return;\n",
              "\n",
              "        const docLinkHtml = 'Like what you see? Visit the ' +\n",
              "          '<a target=\"_blank\" href=https://colab.research.google.com/notebooks/data_table.ipynb>data table notebook</a>'\n",
              "          + ' to learn more about interactive tables.';\n",
              "        element.innerHTML = '';\n",
              "        dataTable['output_type'] = 'display_data';\n",
              "        await google.colab.output.renderOutput(dataTable, element);\n",
              "        const docLink = document.createElement('div');\n",
              "        docLink.innerHTML = docLinkHtml;\n",
              "        element.appendChild(docLink);\n",
              "      }\n",
              "    </script>\n",
              "  </div>\n",
              "\n",
              "    </div>\n",
              "  </div>\n"
            ]
          },
          "metadata": {},
          "execution_count": 769
        }
      ]
    },
    {
      "cell_type": "code",
      "source": [
        "df=df.drop('laptop_id', axis=1)"
      ],
      "metadata": {
        "id": "apGp4D8-tFey"
      },
      "execution_count": null,
      "outputs": []
    },
    {
      "cell_type": "markdown",
      "source": [
        "Начиная с laptop_id = 66, идет несовпадение индекса и laptop_id. Отбросим laptop_id, чтобы не путаться."
      ],
      "metadata": {
        "id": "1FKme_411AW1"
      }
    },
    {
      "cell_type": "markdown",
      "source": [
        "## Рассмотрим screenresolution"
      ],
      "metadata": {
        "id": "uyXJbfD3tW5h"
      }
    },
    {
      "cell_type": "code",
      "source": [
        "df['screenresolution']"
      ],
      "metadata": {
        "colab": {
          "base_uri": "https://localhost:8080/"
        },
        "id": "3KMKaw9EtOyu",
        "outputId": "41bbdbb1-6ebd-4273-9fed-985870a79bcd"
      },
      "execution_count": null,
      "outputs": [
        {
          "output_type": "execute_result",
          "data": {
            "text/plain": [
              "0               IPS Panel Retina Display 2560x1600\n",
              "1                                         1440x900\n",
              "2                                Full HD 1920x1080\n",
              "3               IPS Panel Retina Display 2880x1800\n",
              "4               IPS Panel Retina Display 2560x1600\n",
              "                           ...                    \n",
              "1298     IPS Panel Full HD / Touchscreen 1920x1080\n",
              "1299    IPS Panel Quad HD+ / Touchscreen 3200x1800\n",
              "1300                                      1366x768\n",
              "1301                                      1366x768\n",
              "1302                                      1366x768\n",
              "Name: screenresolution, Length: 1303, dtype: object"
            ]
          },
          "metadata": {},
          "execution_count": 771
        }
      ]
    },
    {
      "cell_type": "markdown",
      "source": [
        "Разделим этот столбец на три: разрешение, тип экрана, наличие тачскрина."
      ],
      "metadata": {
        "id": "0P2tOwWn1WB5"
      }
    },
    {
      "cell_type": "code",
      "source": [
        "df['resolution'] = df['screenresolution'].str.extract(r'(\\d+x\\d+)')\n",
        "df['screentype'] = df['screenresolution'].replace(r'(\\d+x\\d+)','',regex=True)\n",
        "df['screentype'] = df['screentype'].replace(r'(Full HD|Quad HD|Quad HD|\\+|/|4K Ultra HD)','',regex=True)\n",
        "df['screentype']"
      ],
      "metadata": {
        "colab": {
          "base_uri": "https://localhost:8080/"
        },
        "id": "XQe6wdqDtRLK",
        "outputId": "fde7ecaa-5b32-4e85-cb6c-8a35e90d05bd"
      },
      "execution_count": null,
      "outputs": [
        {
          "output_type": "execute_result",
          "data": {
            "text/plain": [
              "0       IPS Panel Retina Display \n",
              "1                                \n",
              "2                                \n",
              "3       IPS Panel Retina Display \n",
              "4       IPS Panel Retina Display \n",
              "                  ...            \n",
              "1298     IPS Panel   Touchscreen \n",
              "1299     IPS Panel   Touchscreen \n",
              "1300                             \n",
              "1301                             \n",
              "1302                             \n",
              "Name: screentype, Length: 1303, dtype: object"
            ]
          },
          "metadata": {},
          "execution_count": 772
        }
      ]
    },
    {
      "cell_type": "code",
      "source": [
        "df['touchscreen'] = df['screentype'].str.extract(r'(Touchscreen)')\n",
        "df['screentype'] = df['screentype'].replace(r'(Touchscreen)','',regex=True)\n",
        "df['touchscreen'].value_counts()"
      ],
      "metadata": {
        "colab": {
          "base_uri": "https://localhost:8080/"
        },
        "id": "BHjMs9ivtivm",
        "outputId": "558c375c-ba02-4c42-aff0-2094f46206ea"
      },
      "execution_count": null,
      "outputs": [
        {
          "output_type": "execute_result",
          "data": {
            "text/plain": [
              "Touchscreen    192\n",
              "Name: touchscreen, dtype: int64"
            ]
          },
          "metadata": {},
          "execution_count": 773
        }
      ]
    },
    {
      "cell_type": "code",
      "source": [
        "df['touchscreen'] = df['touchscreen'].replace('Touchscreen',1)\n",
        "df['touchscreen'] = df['touchscreen'].replace(np.nan,0)\n",
        "df['touchscreen'].value_counts()"
      ],
      "metadata": {
        "colab": {
          "base_uri": "https://localhost:8080/"
        },
        "id": "KCpHh2lHtnGo",
        "outputId": "e243ece2-648e-47c1-83e0-34f91ec4dc61"
      },
      "execution_count": null,
      "outputs": [
        {
          "output_type": "execute_result",
          "data": {
            "text/plain": [
              "0.0    1111\n",
              "1.0     192\n",
              "Name: touchscreen, dtype: int64"
            ]
          },
          "metadata": {},
          "execution_count": 774
        }
      ]
    },
    {
      "cell_type": "code",
      "source": [
        "df['screentype'].value_counts()"
      ],
      "metadata": {
        "colab": {
          "base_uri": "https://localhost:8080/"
        },
        "id": "CC7z8Vi9tq_N",
        "outputId": "4bb47a6a-dc08-4281-b3ae-d362929756d7"
      },
      "execution_count": null,
      "outputs": [
        {
          "output_type": "execute_result",
          "data": {
            "text/plain": [
              "                             549\n",
              "                             314\n",
              "IPS Panel                    265\n",
              "                              75\n",
              "IPS Panel                     72\n",
              "IPS Panel Retina Display      17\n",
              "IPS Panel                     11\n",
              "Name: screentype, dtype: int64"
            ]
          },
          "metadata": {},
          "execution_count": 775
        }
      ]
    },
    {
      "cell_type": "code",
      "source": [
        "df['screentype']=df['screentype'].replace(r' ','',regex=True)\n",
        "df['screentype'].value_counts()"
      ],
      "metadata": {
        "colab": {
          "base_uri": "https://localhost:8080/"
        },
        "id": "DcnAsDFHts8n",
        "outputId": "4f66f2fc-2830-4bfc-e757-9c7ec9f0af5b"
      },
      "execution_count": null,
      "outputs": [
        {
          "output_type": "execute_result",
          "data": {
            "text/plain": [
              "                         938\n",
              "IPSPanel                 348\n",
              "IPSPanelRetinaDisplay     17\n",
              "Name: screentype, dtype: int64"
            ]
          },
          "metadata": {},
          "execution_count": 776
        }
      ]
    },
    {
      "cell_type": "code",
      "source": [
        "df['screentype'] = df['screentype'].replace(r'^\\s*$', np.nan, regex=True)\n",
        "df['screentype'].value_counts()"
      ],
      "metadata": {
        "colab": {
          "base_uri": "https://localhost:8080/"
        },
        "id": "6kvEKZxEt0EA",
        "outputId": "5698c22c-02ce-4131-d13d-1bd8ed9be47a"
      },
      "execution_count": null,
      "outputs": [
        {
          "output_type": "execute_result",
          "data": {
            "text/plain": [
              "IPSPanel                 348\n",
              "IPSPanelRetinaDisplay     17\n",
              "Name: screentype, dtype: int64"
            ]
          },
          "metadata": {},
          "execution_count": 777
        }
      ]
    },
    {
      "cell_type": "markdown",
      "source": [
        "Так как мы разделили колонку screenresolution на три других, можем ее отбросить. Рассмотрим получившиеся колонки:"
      ],
      "metadata": {
        "id": "FlxRwbpS1yvr"
      }
    },
    {
      "cell_type": "code",
      "source": [
        "df = df.drop('screenresolution', axis=1)\n",
        "df['resolution'].value_counts()"
      ],
      "metadata": {
        "colab": {
          "base_uri": "https://localhost:8080/"
        },
        "id": "69uhglTJt66e",
        "outputId": "c29129f9-22cb-45ec-df4a-b14f606210bc"
      },
      "execution_count": null,
      "outputs": [
        {
          "output_type": "execute_result",
          "data": {
            "text/plain": [
              "1920x1080    841\n",
              "1366x768     308\n",
              "3840x2160     43\n",
              "3200x1800     27\n",
              "2560x1440     23\n",
              "1600x900      23\n",
              "2560x1600      6\n",
              "2304x1440      6\n",
              "2256x1504      6\n",
              "1920x1200      5\n",
              "1440x900       4\n",
              "2880x1800      4\n",
              "2400x1600      4\n",
              "2160x1440      2\n",
              "2736x1824      1\n",
              "Name: resolution, dtype: int64"
            ]
          },
          "metadata": {},
          "execution_count": 778
        }
      ]
    },
    {
      "cell_type": "code",
      "source": [
        "df['screentype'].value_counts()"
      ],
      "metadata": {
        "colab": {
          "base_uri": "https://localhost:8080/"
        },
        "id": "0ePbICQnuC77",
        "outputId": "e2f2dab6-3dd7-41e2-88fa-1148484f674b"
      },
      "execution_count": null,
      "outputs": [
        {
          "output_type": "execute_result",
          "data": {
            "text/plain": [
              "IPSPanel                 348\n",
              "IPSPanelRetinaDisplay     17\n",
              "Name: screentype, dtype: int64"
            ]
          },
          "metadata": {},
          "execution_count": 779
        }
      ]
    },
    {
      "cell_type": "code",
      "source": [
        "df['touchscreen'].value_counts()"
      ],
      "metadata": {
        "colab": {
          "base_uri": "https://localhost:8080/"
        },
        "id": "X-w3y4xYuIP5",
        "outputId": "38dccf11-2a80-4c1b-ee21-9b68e5e2ecc3"
      },
      "execution_count": null,
      "outputs": [
        {
          "output_type": "execute_result",
          "data": {
            "text/plain": [
              "0.0    1111\n",
              "1.0     192\n",
              "Name: touchscreen, dtype: int64"
            ]
          },
          "metadata": {},
          "execution_count": 780
        }
      ]
    },
    {
      "cell_type": "markdown",
      "source": [
        "## Рассмотрим CPU"
      ],
      "metadata": {
        "id": "wOAko0SEuKeC"
      }
    },
    {
      "cell_type": "code",
      "source": [
        "df['cpu']"
      ],
      "metadata": {
        "colab": {
          "base_uri": "https://localhost:8080/"
        },
        "id": "t5HxoMSNuKJP",
        "outputId": "c6b0b553-9182-40c2-b81b-a284cf9dbabb"
      },
      "execution_count": null,
      "outputs": [
        {
          "output_type": "execute_result",
          "data": {
            "text/plain": [
              "0                       Intel Core i5 2.3GHz\n",
              "1                       Intel Core i5 1.8GHz\n",
              "2                 Intel Core i5 7200U 2.5GHz\n",
              "3                       Intel Core i7 2.7GHz\n",
              "4                       Intel Core i5 3.1GHz\n",
              "                        ...                 \n",
              "1298              Intel Core i7 6500U 2.5GHz\n",
              "1299              Intel Core i7 6500U 2.5GHz\n",
              "1300    Intel Celeron Dual Core N3050 1.6GHz\n",
              "1301              Intel Core i7 6500U 2.5GHz\n",
              "1302    Intel Celeron Dual Core N3050 1.6GHz\n",
              "Name: cpu, Length: 1303, dtype: object"
            ]
          },
          "metadata": {},
          "execution_count": 781
        }
      ]
    },
    {
      "cell_type": "markdown",
      "source": [
        "Извлечем частоту процессора в отдельную колонку:"
      ],
      "metadata": {
        "id": "J-Bk2Qcf2Bg9"
      }
    },
    {
      "cell_type": "code",
      "source": [
        "df['cpu_freq'] = df['cpu'].str.extract(r'(\\d+(?:\\.\\d+)?GHz)')\n",
        "df['cpu_freq'].value_counts()"
      ],
      "metadata": {
        "colab": {
          "base_uri": "https://localhost:8080/"
        },
        "id": "Cfk-e7ssuO5J",
        "outputId": "5b5461d4-9c57-4994-c6b0-91d49506810a"
      },
      "execution_count": null,
      "outputs": [
        {
          "output_type": "execute_result",
          "data": {
            "text/plain": [
              "2.5GHz     290\n",
              "2.7GHz     165\n",
              "2.8GHz     165\n",
              "1.6GHz     133\n",
              "2.3GHz      86\n",
              "1.8GHz      78\n",
              "2.6GHz      76\n",
              "2GHz        67\n",
              "1.1GHz      53\n",
              "2.4GHz      52\n",
              "2.9GHz      21\n",
              "3GHz        19\n",
              "2.0GHz      19\n",
              "1.2GHz      15\n",
              "1.44GHz     12\n",
              "2.2GHz      11\n",
              "1.5GHz      10\n",
              "1.3GHz       6\n",
              "3.6GHz       5\n",
              "0.9GHz       4\n",
              "3.1GHz       3\n",
              "2.1GHz       3\n",
              "2.50GHz      3\n",
              "1.9GHz       2\n",
              "1.60GHz      1\n",
              "3.2GHz       1\n",
              "1.0GHz       1\n",
              "1.92GHz      1\n",
              "2.70GHz      1\n",
              "Name: cpu_freq, dtype: int64"
            ]
          },
          "metadata": {},
          "execution_count": 782
        }
      ]
    },
    {
      "cell_type": "markdown",
      "source": [
        "Превратим эту колонку в числовую, отбросив GHz:"
      ],
      "metadata": {
        "id": "exeVj0gh2NDw"
      }
    },
    {
      "cell_type": "code",
      "source": [
        "df['cpu_freq'] = df['cpu_freq'].str.replace('GHz', '')\n",
        "df['cpu_freq'] = df['cpu_freq'].astype(float)\n",
        "df['cpu']= df['cpu'].str.replace(r'(\\d+(?:\\.\\d+)?GHz)', '', regex=True)"
      ],
      "metadata": {
        "id": "eDUGQSNbuTE7"
      },
      "execution_count": null,
      "outputs": []
    },
    {
      "cell_type": "markdown",
      "source": [
        "## Рассмотрим RAM"
      ],
      "metadata": {
        "id": "mDyf-Z5ouZie"
      }
    },
    {
      "cell_type": "markdown",
      "source": [
        "Превратим эту колонку в числовую, отбросив GB:"
      ],
      "metadata": {
        "id": "WBSnzh5L2eO3"
      }
    },
    {
      "cell_type": "code",
      "source": [
        "df['ram'] = df['ram'].str.replace('GB', '')\n",
        "df['ram'] = df['ram'].astype(int)"
      ],
      "metadata": {
        "id": "uDDyOZKzub4w"
      },
      "execution_count": null,
      "outputs": []
    },
    {
      "cell_type": "markdown",
      "source": [
        "## Рассмотрим Price"
      ],
      "metadata": {
        "id": "-9Qz91Ixkf9W"
      }
    },
    {
      "cell_type": "markdown",
      "source": [
        "Заметим, что у нас есть несколько строк с очень высокой ценой относительно других записей. Лучше их убрать."
      ],
      "metadata": {
        "id": "DEsALvBNpHwl"
      }
    },
    {
      "cell_type": "code",
      "source": [
        "df['price'].value_counts().sort_index()"
      ],
      "metadata": {
        "colab": {
          "base_uri": "https://localhost:8080/"
        },
        "id": "8y1-_bNPky1w",
        "outputId": "d76f0323-d0ff-4896-e269-282ea86ab415"
      },
      "execution_count": null,
      "outputs": [
        {
          "output_type": "execute_result",
          "data": {
            "text/plain": [
              "174.0     1\n",
              "191.9     1\n",
              "196.0     1\n",
              "199.0     2\n",
              "202.9     1\n",
              "         ..\n",
              "3975.0    1\n",
              "4389.0    1\n",
              "4899.0    1\n",
              "5499.0    1\n",
              "6099.0    1\n",
              "Name: price, Length: 791, dtype: int64"
            ]
          },
          "metadata": {},
          "execution_count": 785
        }
      ]
    },
    {
      "cell_type": "code",
      "source": [
        "df = df.drop(df[df['price'] >= 4389.0].index)"
      ],
      "metadata": {
        "id": "CmMEc2W4mSOu"
      },
      "execution_count": null,
      "outputs": []
    },
    {
      "cell_type": "code",
      "source": [
        "df['price'].value_counts().sort_index()"
      ],
      "metadata": {
        "colab": {
          "base_uri": "https://localhost:8080/"
        },
        "id": "b7ZLlyoOoZ6e",
        "outputId": "92b00121-6ba5-481c-c6da-a8484302715e"
      },
      "execution_count": null,
      "outputs": [
        {
          "output_type": "execute_result",
          "data": {
            "text/plain": [
              "174.0     1\n",
              "191.9     1\n",
              "196.0     1\n",
              "199.0     2\n",
              "202.9     1\n",
              "         ..\n",
              "3588.8    1\n",
              "3659.4    1\n",
              "3890.0    1\n",
              "3949.4    1\n",
              "3975.0    1\n",
              "Name: price, Length: 787, dtype: int64"
            ]
          },
          "metadata": {},
          "execution_count": 787
        }
      ]
    },
    {
      "cell_type": "markdown",
      "source": [
        "## Рассмотрим Memory"
      ],
      "metadata": {
        "id": "O-bq53jxuhIK"
      }
    },
    {
      "cell_type": "code",
      "source": [
        "df['memory']"
      ],
      "metadata": {
        "colab": {
          "base_uri": "https://localhost:8080/"
        },
        "id": "xro9Yx0Pujq0",
        "outputId": "b7bfb4c4-7179-4fb1-ade5-45def1b3f2bc"
      },
      "execution_count": null,
      "outputs": [
        {
          "output_type": "execute_result",
          "data": {
            "text/plain": [
              "0                 128GB SSD\n",
              "1       128GB Flash Storage\n",
              "2                 256GB SSD\n",
              "3                 512GB SSD\n",
              "4                 256GB SSD\n",
              "               ...         \n",
              "1298              128GB SSD\n",
              "1299              512GB SSD\n",
              "1300     64GB Flash Storage\n",
              "1301                1TB HDD\n",
              "1302              500GB HDD\n",
              "Name: memory, Length: 1299, dtype: object"
            ]
          },
          "metadata": {},
          "execution_count": 788
        }
      ]
    },
    {
      "cell_type": "code",
      "source": [
        "df['memory'].value_counts()"
      ],
      "metadata": {
        "colab": {
          "base_uri": "https://localhost:8080/"
        },
        "id": "f9Ef1BmtulfH",
        "outputId": "22a706c5-5ca6-4ef3-d32b-9a6244ab02fb"
      },
      "execution_count": null,
      "outputs": [
        {
          "output_type": "execute_result",
          "data": {
            "text/plain": [
              "256GB SSD                        411\n",
              "1TB HDD                          223\n",
              "500GB HDD                        132\n",
              "512GB SSD                        117\n",
              "128GB SSD +  1TB HDD              94\n",
              "128GB SSD                         76\n",
              "256GB SSD +  1TB HDD              73\n",
              "32GB Flash Storage                38\n",
              "2TB HDD                           16\n",
              "64GB Flash Storage                15\n",
              "512GB SSD +  1TB HDD              14\n",
              "1TB SSD                           12\n",
              "256GB SSD +  2TB HDD              10\n",
              "1.0TB Hybrid                       9\n",
              "256GB Flash Storage                8\n",
              "16GB Flash Storage                 7\n",
              "32GB SSD                           6\n",
              "180GB SSD                          5\n",
              "128GB Flash Storage                4\n",
              "512GB SSD +  2TB HDD               3\n",
              "16GB SSD                           3\n",
              "512GB Flash Storage                2\n",
              "1TB SSD +  1TB HDD                 2\n",
              "256GB SSD +  500GB HDD             2\n",
              "128GB SSD +  2TB HDD               2\n",
              "256GB SSD +  256GB SSD             2\n",
              "512GB SSD +  256GB SSD             1\n",
              "512GB SSD +  512GB SSD             1\n",
              "64GB Flash Storage +  1TB HDD      1\n",
              "1TB HDD +  1TB HDD                 1\n",
              "32GB HDD                           1\n",
              "64GB SSD                           1\n",
              "128GB HDD                          1\n",
              "240GB SSD                          1\n",
              "8GB SSD                            1\n",
              "508GB Hybrid                       1\n",
              "1.0TB HDD                          1\n",
              "512GB SSD +  1.0TB Hybrid          1\n",
              "256GB SSD +  1.0TB Hybrid          1\n",
              "Name: memory, dtype: int64"
            ]
          },
          "metadata": {},
          "execution_count": 789
        }
      ]
    },
    {
      "cell_type": "markdown",
      "source": [
        "Можно заметить, что запись о памяти ноутбука состоит из объема диска и его вида. Также есть ноутбуки, вмещающие сразу два диска памяти. Разделим колонку memory на четыре колонки: объем памяти 1, тип памяти 1, объем памяти 2, тип памяти 2. Также переведем терабайты в гигабайты."
      ],
      "metadata": {
        "id": "HOLF1RZa20XV"
      }
    },
    {
      "cell_type": "code",
      "source": [
        "df['memory_1']=df['memory']\n",
        "df['memory_1']=df['memory_1'].str.replace('1.0TB','1TB', regex=True)\n",
        "df['memory_1']=df['memory_1'].str.replace('1TB','1000GB')\n",
        "df['memory_1']=df['memory_1'].str.replace('2TB','2000GB')\n",
        "df['memory_1']=df['memory_1'].str.replace('GB','')\n",
        "df['memory_1'].value_counts()"
      ],
      "metadata": {
        "colab": {
          "base_uri": "https://localhost:8080/"
        },
        "id": "m4xS-oVauoqn",
        "outputId": "24394361-6cd6-4081-f8b1-907454ab76ea"
      },
      "execution_count": null,
      "outputs": [
        {
          "output_type": "execute_result",
          "data": {
            "text/plain": [
              "256 SSD                         411\n",
              "1000 HDD                        224\n",
              "500 HDD                         132\n",
              "512 SSD                         117\n",
              "128 SSD +  1000 HDD              94\n",
              "128 SSD                          76\n",
              "256 SSD +  1000 HDD              73\n",
              "32 Flash Storage                 38\n",
              "2000 HDD                         16\n",
              "64 Flash Storage                 15\n",
              "512 SSD +  1000 HDD              14\n",
              "1000 SSD                         12\n",
              "256 SSD +  2000 HDD              10\n",
              "1000 Hybrid                       9\n",
              "256 Flash Storage                 8\n",
              "16 Flash Storage                  7\n",
              "32 SSD                            6\n",
              "180 SSD                           5\n",
              "128 Flash Storage                 4\n",
              "512 SSD +  2000 HDD               3\n",
              "16 SSD                            3\n",
              "512 Flash Storage                 2\n",
              "1000 SSD +  1000 HDD              2\n",
              "256 SSD +  500 HDD                2\n",
              "128 SSD +  2000 HDD               2\n",
              "256 SSD +  256 SSD                2\n",
              "512 SSD +  256 SSD                1\n",
              "512 SSD +  512 SSD                1\n",
              "64 Flash Storage +  1000 HDD      1\n",
              "1000 HDD +  1000 HDD              1\n",
              "32 HDD                            1\n",
              "64 SSD                            1\n",
              "128 HDD                           1\n",
              "240 SSD                           1\n",
              "8 SSD                             1\n",
              "508 Hybrid                        1\n",
              "512 SSD +  1000 Hybrid            1\n",
              "256 SSD +  1000 Hybrid            1\n",
              "Name: memory_1, dtype: int64"
            ]
          },
          "metadata": {},
          "execution_count": 790
        }
      ]
    },
    {
      "cell_type": "code",
      "source": [
        "df['memory2']=df['memory_1'].str.replace(r' ','')\n",
        "df['memory2'].value_counts()"
      ],
      "metadata": {
        "colab": {
          "base_uri": "https://localhost:8080/"
        },
        "id": "hycPi-c_uulR",
        "outputId": "5f13ffc6-553e-4f68-b6b2-49eb3d3bb9b9"
      },
      "execution_count": null,
      "outputs": [
        {
          "output_type": "execute_result",
          "data": {
            "text/plain": [
              "256SSD                    411\n",
              "1000HDD                   224\n",
              "500HDD                    132\n",
              "512SSD                    117\n",
              "128SSD+1000HDD             94\n",
              "128SSD                     76\n",
              "256SSD+1000HDD             73\n",
              "32FlashStorage             38\n",
              "2000HDD                    16\n",
              "64FlashStorage             15\n",
              "512SSD+1000HDD             14\n",
              "1000SSD                    12\n",
              "256SSD+2000HDD             10\n",
              "1000Hybrid                  9\n",
              "256FlashStorage             8\n",
              "16FlashStorage              7\n",
              "32SSD                       6\n",
              "180SSD                      5\n",
              "128FlashStorage             4\n",
              "512SSD+2000HDD              3\n",
              "16SSD                       3\n",
              "512FlashStorage             2\n",
              "1000SSD+1000HDD             2\n",
              "256SSD+500HDD               2\n",
              "128SSD+2000HDD              2\n",
              "256SSD+256SSD               2\n",
              "512SSD+256SSD               1\n",
              "512SSD+512SSD               1\n",
              "64FlashStorage+1000HDD      1\n",
              "1000HDD+1000HDD             1\n",
              "32HDD                       1\n",
              "64SSD                       1\n",
              "128HDD                      1\n",
              "240SSD                      1\n",
              "8SSD                        1\n",
              "508Hybrid                   1\n",
              "512SSD+1000Hybrid           1\n",
              "256SSD+1000Hybrid           1\n",
              "Name: memory2, dtype: int64"
            ]
          },
          "metadata": {},
          "execution_count": 791
        }
      ]
    },
    {
      "cell_type": "code",
      "source": [
        "memory_1=[]\n",
        "memory_2=[]\n",
        "for i in df['memory2']:\n",
        "    if len(re.findall(r'\\+',i))==1: # 2 диска\n",
        "        one=re.findall(r'(\\w+)',i)\n",
        "        memory_1.append(one[0])\n",
        "        memory_2.append(one[1])\n",
        "    else: # 1 диск\n",
        "        one=re.findall(r'(\\w+)',i)\n",
        "        memory_1.append(one[0])\n",
        "        memory_2.append('NaN')\n",
        "\n",
        "memory_1_gb=[]\n",
        "memory_1_type=[]\n",
        "for i in memory_1:\n",
        "    memory_1_type.append(re.findall(r'(\\D\\w+)',i)[0])\n",
        "    memory_1_gb.append(re.findall(r'(\\d+)',i)[0])\n",
        "\n",
        "memory_2_gb=[]\n",
        "memory_2_type=[]\n",
        "for i in memory_2:\n",
        "    if i != 'NaN':\n",
        "        memory_2_type.append(re.findall(r'(\\D\\w+)',i)[0])\n",
        "        memory_2_gb.append(re.findall(r'(\\d+)',i)[0])\n",
        "    else:\n",
        "        memory_2_type.append('NaN')\n",
        "        memory_2_gb.append(0)\n",
        "\n",
        "df['memory_1_sto'] = memory_1_gb\n",
        "df['memory_1_type'] = memory_1_type\n",
        "df['memory_2_sto'] = memory_2_gb\n",
        "df['memory_2_type'] = memory_2_type\n",
        "\n",
        "df['memory_1_sto'] = df['memory_1_sto'].astype(float)\n",
        "df['memory_2_sto'] = df['memory_2_sto'].astype(float)\n",
        "\n",
        "df=df.drop(['memory_1','memory2','memory'], axis=1)\n",
        "df = df.replace({'NaN': np.nan})"
      ],
      "metadata": {
        "id": "PmLR_FTpuwtt"
      },
      "execution_count": null,
      "outputs": []
    },
    {
      "cell_type": "markdown",
      "source": [
        "## Рассмотрим Weight"
      ],
      "metadata": {
        "id": "OMh0eaSBvOC6"
      }
    },
    {
      "cell_type": "code",
      "source": [
        "df['weight'].value_counts()"
      ],
      "metadata": {
        "colab": {
          "base_uri": "https://localhost:8080/"
        },
        "id": "2Wpd31WVvM0u",
        "outputId": "0a4fef42-cf90-4ef2-ff64-605bef8b7a1f"
      },
      "execution_count": null,
      "outputs": [
        {
          "output_type": "execute_result",
          "data": {
            "text/plain": [
              "2.2kg     121\n",
              "2.1kg      58\n",
              "2.4kg      44\n",
              "2.3kg      41\n",
              "2.5kg      37\n",
              "         ... \n",
              "3.8kg       1\n",
              "1.59kg      1\n",
              "3.49kg      1\n",
              "1.55kg      1\n",
              "4.0kg       1\n",
              "Name: weight, Length: 179, dtype: int64"
            ]
          },
          "metadata": {},
          "execution_count": 793
        }
      ]
    },
    {
      "cell_type": "code",
      "source": [
        "df['weight'].str.contains('kg').sum()"
      ],
      "metadata": {
        "colab": {
          "base_uri": "https://localhost:8080/"
        },
        "id": "qKG3unahvRKm",
        "outputId": "341563a8-85bb-4a3b-bcb3-d5537a34783a"
      },
      "execution_count": null,
      "outputs": [
        {
          "output_type": "execute_result",
          "data": {
            "text/plain": [
              "1299"
            ]
          },
          "metadata": {},
          "execution_count": 794
        }
      ]
    },
    {
      "cell_type": "markdown",
      "source": [
        "Так как все строки содержат вес в килограммах, можно отбросить \"kg\" из значений."
      ],
      "metadata": {
        "id": "XXtOH6mX4T0R"
      }
    },
    {
      "cell_type": "code",
      "source": [
        "df['weight'] = df['weight'].str.replace('kg','').astype(float)"
      ],
      "metadata": {
        "id": "-QGTx1RhvVEB"
      },
      "execution_count": null,
      "outputs": []
    },
    {
      "cell_type": "markdown",
      "source": [
        "## Рассмотрим компании, выпускающие CPU и GPU"
      ],
      "metadata": {
        "id": "j0mHQvm7vZRt"
      }
    },
    {
      "cell_type": "code",
      "source": [
        "df['cpu_brand'] = df['cpu'].str.extract(r'^(\\w+)')\n",
        "df['cpu_brand'].value_counts()"
      ],
      "metadata": {
        "colab": {
          "base_uri": "https://localhost:8080/"
        },
        "id": "vzYVXCTrvd-B",
        "outputId": "e755eb6a-626a-435e-81a7-d11acc55e95a"
      },
      "execution_count": null,
      "outputs": [
        {
          "output_type": "execute_result",
          "data": {
            "text/plain": [
              "Intel      1236\n",
              "AMD          62\n",
              "Samsung       1\n",
              "Name: cpu_brand, dtype: int64"
            ]
          },
          "metadata": {},
          "execution_count": 796
        }
      ]
    },
    {
      "cell_type": "code",
      "source": [
        "df[df['cpu_brand']=='Samsung']"
      ],
      "metadata": {
        "colab": {
          "base_uri": "https://localhost:8080/",
          "height": 153
        },
        "id": "0iAr-BpCvf2j",
        "outputId": "7e9cb6d9-75b1-4aa0-bf6d-52fce0e35dd0"
      },
      "execution_count": null,
      "outputs": [
        {
          "output_type": "execute_result",
          "data": {
            "text/plain": [
              "      company          product            typename  inches  \\\n",
              "1191  Samsung  Chromebook Plus  2 in 1 Convertible    12.3   \n",
              "\n",
              "                          cpu  ram                gpu      opsys  weight  \\\n",
              "1191  Samsung Cortex A72&A53     4  ARM Mali T860 MP4  Chrome OS    1.15   \n",
              "\n",
              "      price resolution screentype  touchscreen  cpu_freq  memory_1_sto  \\\n",
              "1191  659.0  2400x1600   IPSPanel          1.0       2.0          32.0   \n",
              "\n",
              "     memory_1_type  memory_2_sto memory_2_type cpu_brand  \n",
              "1191  FlashStorage           0.0           NaN   Samsung  "
            ],
            "text/html": [
              "\n",
              "  <div id=\"df-eab1e157-282f-4d62-8d9f-1e9a2c8c0ff9\" class=\"colab-df-container\">\n",
              "    <div>\n",
              "<style scoped>\n",
              "    .dataframe tbody tr th:only-of-type {\n",
              "        vertical-align: middle;\n",
              "    }\n",
              "\n",
              "    .dataframe tbody tr th {\n",
              "        vertical-align: top;\n",
              "    }\n",
              "\n",
              "    .dataframe thead th {\n",
              "        text-align: right;\n",
              "    }\n",
              "</style>\n",
              "<table border=\"1\" class=\"dataframe\">\n",
              "  <thead>\n",
              "    <tr style=\"text-align: right;\">\n",
              "      <th></th>\n",
              "      <th>company</th>\n",
              "      <th>product</th>\n",
              "      <th>typename</th>\n",
              "      <th>inches</th>\n",
              "      <th>cpu</th>\n",
              "      <th>ram</th>\n",
              "      <th>gpu</th>\n",
              "      <th>opsys</th>\n",
              "      <th>weight</th>\n",
              "      <th>price</th>\n",
              "      <th>resolution</th>\n",
              "      <th>screentype</th>\n",
              "      <th>touchscreen</th>\n",
              "      <th>cpu_freq</th>\n",
              "      <th>memory_1_sto</th>\n",
              "      <th>memory_1_type</th>\n",
              "      <th>memory_2_sto</th>\n",
              "      <th>memory_2_type</th>\n",
              "      <th>cpu_brand</th>\n",
              "    </tr>\n",
              "  </thead>\n",
              "  <tbody>\n",
              "    <tr>\n",
              "      <th>1191</th>\n",
              "      <td>Samsung</td>\n",
              "      <td>Chromebook Plus</td>\n",
              "      <td>2 in 1 Convertible</td>\n",
              "      <td>12.3</td>\n",
              "      <td>Samsung Cortex A72&amp;A53</td>\n",
              "      <td>4</td>\n",
              "      <td>ARM Mali T860 MP4</td>\n",
              "      <td>Chrome OS</td>\n",
              "      <td>1.15</td>\n",
              "      <td>659.0</td>\n",
              "      <td>2400x1600</td>\n",
              "      <td>IPSPanel</td>\n",
              "      <td>1.0</td>\n",
              "      <td>2.0</td>\n",
              "      <td>32.0</td>\n",
              "      <td>FlashStorage</td>\n",
              "      <td>0.0</td>\n",
              "      <td>NaN</td>\n",
              "      <td>Samsung</td>\n",
              "    </tr>\n",
              "  </tbody>\n",
              "</table>\n",
              "</div>\n",
              "    <div class=\"colab-df-buttons\">\n",
              "\n",
              "  <div class=\"colab-df-container\">\n",
              "    <button class=\"colab-df-convert\" onclick=\"convertToInteractive('df-eab1e157-282f-4d62-8d9f-1e9a2c8c0ff9')\"\n",
              "            title=\"Convert this dataframe to an interactive table.\"\n",
              "            style=\"display:none;\">\n",
              "\n",
              "  <svg xmlns=\"http://www.w3.org/2000/svg\" height=\"24px\" viewBox=\"0 -960 960 960\">\n",
              "    <path d=\"M120-120v-720h720v720H120Zm60-500h600v-160H180v160Zm220 220h160v-160H400v160Zm0 220h160v-160H400v160ZM180-400h160v-160H180v160Zm440 0h160v-160H620v160ZM180-180h160v-160H180v160Zm440 0h160v-160H620v160Z\"/>\n",
              "  </svg>\n",
              "    </button>\n",
              "\n",
              "  <style>\n",
              "    .colab-df-container {\n",
              "      display:flex;\n",
              "      gap: 12px;\n",
              "    }\n",
              "\n",
              "    .colab-df-convert {\n",
              "      background-color: #E8F0FE;\n",
              "      border: none;\n",
              "      border-radius: 50%;\n",
              "      cursor: pointer;\n",
              "      display: none;\n",
              "      fill: #1967D2;\n",
              "      height: 32px;\n",
              "      padding: 0 0 0 0;\n",
              "      width: 32px;\n",
              "    }\n",
              "\n",
              "    .colab-df-convert:hover {\n",
              "      background-color: #E2EBFA;\n",
              "      box-shadow: 0px 1px 2px rgba(60, 64, 67, 0.3), 0px 1px 3px 1px rgba(60, 64, 67, 0.15);\n",
              "      fill: #174EA6;\n",
              "    }\n",
              "\n",
              "    .colab-df-buttons div {\n",
              "      margin-bottom: 4px;\n",
              "    }\n",
              "\n",
              "    [theme=dark] .colab-df-convert {\n",
              "      background-color: #3B4455;\n",
              "      fill: #D2E3FC;\n",
              "    }\n",
              "\n",
              "    [theme=dark] .colab-df-convert:hover {\n",
              "      background-color: #434B5C;\n",
              "      box-shadow: 0px 1px 3px 1px rgba(0, 0, 0, 0.15);\n",
              "      filter: drop-shadow(0px 1px 2px rgba(0, 0, 0, 0.3));\n",
              "      fill: #FFFFFF;\n",
              "    }\n",
              "  </style>\n",
              "\n",
              "    <script>\n",
              "      const buttonEl =\n",
              "        document.querySelector('#df-eab1e157-282f-4d62-8d9f-1e9a2c8c0ff9 button.colab-df-convert');\n",
              "      buttonEl.style.display =\n",
              "        google.colab.kernel.accessAllowed ? 'block' : 'none';\n",
              "\n",
              "      async function convertToInteractive(key) {\n",
              "        const element = document.querySelector('#df-eab1e157-282f-4d62-8d9f-1e9a2c8c0ff9');\n",
              "        const dataTable =\n",
              "          await google.colab.kernel.invokeFunction('convertToInteractive',\n",
              "                                                    [key], {});\n",
              "        if (!dataTable) return;\n",
              "\n",
              "        const docLinkHtml = 'Like what you see? Visit the ' +\n",
              "          '<a target=\"_blank\" href=https://colab.research.google.com/notebooks/data_table.ipynb>data table notebook</a>'\n",
              "          + ' to learn more about interactive tables.';\n",
              "        element.innerHTML = '';\n",
              "        dataTable['output_type'] = 'display_data';\n",
              "        await google.colab.output.renderOutput(dataTable, element);\n",
              "        const docLink = document.createElement('div');\n",
              "        docLink.innerHTML = docLinkHtml;\n",
              "        element.appendChild(docLink);\n",
              "      }\n",
              "    </script>\n",
              "  </div>\n",
              "\n",
              "    </div>\n",
              "  </div>\n"
            ]
          },
          "metadata": {},
          "execution_count": 797
        }
      ]
    },
    {
      "cell_type": "markdown",
      "source": [
        "Так как Samsung представлен всего в одном экземпляре, отбросим эту строку:"
      ],
      "metadata": {
        "id": "aL1sAfiA4me0"
      }
    },
    {
      "cell_type": "code",
      "source": [
        "df=df.drop(1191)\n",
        "df['gpu_brand'] = df['gpu'].str.extract(r'^(\\w+)')\n",
        "df['gpu_brand'].value_counts()"
      ],
      "metadata": {
        "colab": {
          "base_uri": "https://localhost:8080/"
        },
        "id": "A6p3Rw5gvimr",
        "outputId": "1778b2ac-be61-4baa-f542-c1491b8232ef"
      },
      "execution_count": null,
      "outputs": [
        {
          "output_type": "execute_result",
          "data": {
            "text/plain": [
              "Intel     722\n",
              "Nvidia    396\n",
              "AMD       180\n",
              "Name: gpu_brand, dtype: int64"
            ]
          },
          "metadata": {},
          "execution_count": 798
        }
      ]
    },
    {
      "cell_type": "code",
      "source": [
        "df.info()"
      ],
      "metadata": {
        "colab": {
          "base_uri": "https://localhost:8080/"
        },
        "id": "TliQO41svoiD",
        "outputId": "d03a7cdc-8d87-4666-ad05-abffcaa079c3"
      },
      "execution_count": null,
      "outputs": [
        {
          "output_type": "stream",
          "name": "stdout",
          "text": [
            "<class 'pandas.core.frame.DataFrame'>\n",
            "Int64Index: 1298 entries, 0 to 1302\n",
            "Data columns (total 20 columns):\n",
            " #   Column         Non-Null Count  Dtype  \n",
            "---  ------         --------------  -----  \n",
            " 0   company        1298 non-null   object \n",
            " 1   product        1298 non-null   object \n",
            " 2   typename       1298 non-null   object \n",
            " 3   inches         1298 non-null   float64\n",
            " 4   cpu            1298 non-null   object \n",
            " 5   ram            1298 non-null   int64  \n",
            " 6   gpu            1298 non-null   object \n",
            " 7   opsys          1298 non-null   object \n",
            " 8   weight         1298 non-null   float64\n",
            " 9   price          1298 non-null   float64\n",
            " 10  resolution     1298 non-null   object \n",
            " 11  screentype     362 non-null    object \n",
            " 12  touchscreen    1298 non-null   float64\n",
            " 13  cpu_freq       1298 non-null   float64\n",
            " 14  memory_1_sto   1298 non-null   float64\n",
            " 15  memory_1_type  1298 non-null   object \n",
            " 16  memory_2_sto   1298 non-null   float64\n",
            " 17  memory_2_type  208 non-null    object \n",
            " 18  cpu_brand      1298 non-null   object \n",
            " 19  gpu_brand      1298 non-null   object \n",
            "dtypes: float64(7), int64(1), object(12)\n",
            "memory usage: 213.0+ KB\n"
          ]
        }
      ]
    },
    {
      "cell_type": "code",
      "source": [
        "df.head()"
      ],
      "metadata": {
        "colab": {
          "base_uri": "https://localhost:8080/",
          "height": 451
        },
        "id": "XjVTdi8E5HiW",
        "outputId": "1d9a2859-60fb-484f-ba68-4e9287e613de"
      },
      "execution_count": null,
      "outputs": [
        {
          "output_type": "execute_result",
          "data": {
            "text/plain": [
              "  company      product   typename  inches                   cpu  ram  \\\n",
              "0   Apple  MacBook Pro  Ultrabook    13.3        Intel Core i5     8   \n",
              "1   Apple  Macbook Air  Ultrabook    13.3        Intel Core i5     8   \n",
              "2      HP       250 G6   Notebook    15.6  Intel Core i5 7200U     8   \n",
              "3   Apple  MacBook Pro  Ultrabook    15.4        Intel Core i7    16   \n",
              "4   Apple  MacBook Pro  Ultrabook    13.3        Intel Core i5     8   \n",
              "\n",
              "                            gpu  opsys  weight    price resolution  \\\n",
              "0  Intel Iris Plus Graphics 640  macOS    1.37  1339.69  2560x1600   \n",
              "1        Intel HD Graphics 6000  macOS    1.34   898.94   1440x900   \n",
              "2         Intel HD Graphics 620  No OS    1.86   575.00  1920x1080   \n",
              "3            AMD Radeon Pro 455  macOS    1.83  2537.45  2880x1800   \n",
              "4  Intel Iris Plus Graphics 650  macOS    1.37  1803.60  2560x1600   \n",
              "\n",
              "              screentype  touchscreen  cpu_freq  memory_1_sto memory_1_type  \\\n",
              "0  IPSPanelRetinaDisplay          0.0       2.3         128.0           SSD   \n",
              "1                    NaN          0.0       1.8         128.0  FlashStorage   \n",
              "2                    NaN          0.0       2.5         256.0           SSD   \n",
              "3  IPSPanelRetinaDisplay          0.0       2.7         512.0           SSD   \n",
              "4  IPSPanelRetinaDisplay          0.0       3.1         256.0           SSD   \n",
              "\n",
              "   memory_2_sto memory_2_type cpu_brand gpu_brand  \n",
              "0           0.0           NaN     Intel     Intel  \n",
              "1           0.0           NaN     Intel     Intel  \n",
              "2           0.0           NaN     Intel     Intel  \n",
              "3           0.0           NaN     Intel       AMD  \n",
              "4           0.0           NaN     Intel     Intel  "
            ],
            "text/html": [
              "\n",
              "  <div id=\"df-658f0de6-c597-425e-86c1-6e7fdfdf05b9\" class=\"colab-df-container\">\n",
              "    <div>\n",
              "<style scoped>\n",
              "    .dataframe tbody tr th:only-of-type {\n",
              "        vertical-align: middle;\n",
              "    }\n",
              "\n",
              "    .dataframe tbody tr th {\n",
              "        vertical-align: top;\n",
              "    }\n",
              "\n",
              "    .dataframe thead th {\n",
              "        text-align: right;\n",
              "    }\n",
              "</style>\n",
              "<table border=\"1\" class=\"dataframe\">\n",
              "  <thead>\n",
              "    <tr style=\"text-align: right;\">\n",
              "      <th></th>\n",
              "      <th>company</th>\n",
              "      <th>product</th>\n",
              "      <th>typename</th>\n",
              "      <th>inches</th>\n",
              "      <th>cpu</th>\n",
              "      <th>ram</th>\n",
              "      <th>gpu</th>\n",
              "      <th>opsys</th>\n",
              "      <th>weight</th>\n",
              "      <th>price</th>\n",
              "      <th>resolution</th>\n",
              "      <th>screentype</th>\n",
              "      <th>touchscreen</th>\n",
              "      <th>cpu_freq</th>\n",
              "      <th>memory_1_sto</th>\n",
              "      <th>memory_1_type</th>\n",
              "      <th>memory_2_sto</th>\n",
              "      <th>memory_2_type</th>\n",
              "      <th>cpu_brand</th>\n",
              "      <th>gpu_brand</th>\n",
              "    </tr>\n",
              "  </thead>\n",
              "  <tbody>\n",
              "    <tr>\n",
              "      <th>0</th>\n",
              "      <td>Apple</td>\n",
              "      <td>MacBook Pro</td>\n",
              "      <td>Ultrabook</td>\n",
              "      <td>13.3</td>\n",
              "      <td>Intel Core i5</td>\n",
              "      <td>8</td>\n",
              "      <td>Intel Iris Plus Graphics 640</td>\n",
              "      <td>macOS</td>\n",
              "      <td>1.37</td>\n",
              "      <td>1339.69</td>\n",
              "      <td>2560x1600</td>\n",
              "      <td>IPSPanelRetinaDisplay</td>\n",
              "      <td>0.0</td>\n",
              "      <td>2.3</td>\n",
              "      <td>128.0</td>\n",
              "      <td>SSD</td>\n",
              "      <td>0.0</td>\n",
              "      <td>NaN</td>\n",
              "      <td>Intel</td>\n",
              "      <td>Intel</td>\n",
              "    </tr>\n",
              "    <tr>\n",
              "      <th>1</th>\n",
              "      <td>Apple</td>\n",
              "      <td>Macbook Air</td>\n",
              "      <td>Ultrabook</td>\n",
              "      <td>13.3</td>\n",
              "      <td>Intel Core i5</td>\n",
              "      <td>8</td>\n",
              "      <td>Intel HD Graphics 6000</td>\n",
              "      <td>macOS</td>\n",
              "      <td>1.34</td>\n",
              "      <td>898.94</td>\n",
              "      <td>1440x900</td>\n",
              "      <td>NaN</td>\n",
              "      <td>0.0</td>\n",
              "      <td>1.8</td>\n",
              "      <td>128.0</td>\n",
              "      <td>FlashStorage</td>\n",
              "      <td>0.0</td>\n",
              "      <td>NaN</td>\n",
              "      <td>Intel</td>\n",
              "      <td>Intel</td>\n",
              "    </tr>\n",
              "    <tr>\n",
              "      <th>2</th>\n",
              "      <td>HP</td>\n",
              "      <td>250 G6</td>\n",
              "      <td>Notebook</td>\n",
              "      <td>15.6</td>\n",
              "      <td>Intel Core i5 7200U</td>\n",
              "      <td>8</td>\n",
              "      <td>Intel HD Graphics 620</td>\n",
              "      <td>No OS</td>\n",
              "      <td>1.86</td>\n",
              "      <td>575.00</td>\n",
              "      <td>1920x1080</td>\n",
              "      <td>NaN</td>\n",
              "      <td>0.0</td>\n",
              "      <td>2.5</td>\n",
              "      <td>256.0</td>\n",
              "      <td>SSD</td>\n",
              "      <td>0.0</td>\n",
              "      <td>NaN</td>\n",
              "      <td>Intel</td>\n",
              "      <td>Intel</td>\n",
              "    </tr>\n",
              "    <tr>\n",
              "      <th>3</th>\n",
              "      <td>Apple</td>\n",
              "      <td>MacBook Pro</td>\n",
              "      <td>Ultrabook</td>\n",
              "      <td>15.4</td>\n",
              "      <td>Intel Core i7</td>\n",
              "      <td>16</td>\n",
              "      <td>AMD Radeon Pro 455</td>\n",
              "      <td>macOS</td>\n",
              "      <td>1.83</td>\n",
              "      <td>2537.45</td>\n",
              "      <td>2880x1800</td>\n",
              "      <td>IPSPanelRetinaDisplay</td>\n",
              "      <td>0.0</td>\n",
              "      <td>2.7</td>\n",
              "      <td>512.0</td>\n",
              "      <td>SSD</td>\n",
              "      <td>0.0</td>\n",
              "      <td>NaN</td>\n",
              "      <td>Intel</td>\n",
              "      <td>AMD</td>\n",
              "    </tr>\n",
              "    <tr>\n",
              "      <th>4</th>\n",
              "      <td>Apple</td>\n",
              "      <td>MacBook Pro</td>\n",
              "      <td>Ultrabook</td>\n",
              "      <td>13.3</td>\n",
              "      <td>Intel Core i5</td>\n",
              "      <td>8</td>\n",
              "      <td>Intel Iris Plus Graphics 650</td>\n",
              "      <td>macOS</td>\n",
              "      <td>1.37</td>\n",
              "      <td>1803.60</td>\n",
              "      <td>2560x1600</td>\n",
              "      <td>IPSPanelRetinaDisplay</td>\n",
              "      <td>0.0</td>\n",
              "      <td>3.1</td>\n",
              "      <td>256.0</td>\n",
              "      <td>SSD</td>\n",
              "      <td>0.0</td>\n",
              "      <td>NaN</td>\n",
              "      <td>Intel</td>\n",
              "      <td>Intel</td>\n",
              "    </tr>\n",
              "  </tbody>\n",
              "</table>\n",
              "</div>\n",
              "    <div class=\"colab-df-buttons\">\n",
              "\n",
              "  <div class=\"colab-df-container\">\n",
              "    <button class=\"colab-df-convert\" onclick=\"convertToInteractive('df-658f0de6-c597-425e-86c1-6e7fdfdf05b9')\"\n",
              "            title=\"Convert this dataframe to an interactive table.\"\n",
              "            style=\"display:none;\">\n",
              "\n",
              "  <svg xmlns=\"http://www.w3.org/2000/svg\" height=\"24px\" viewBox=\"0 -960 960 960\">\n",
              "    <path d=\"M120-120v-720h720v720H120Zm60-500h600v-160H180v160Zm220 220h160v-160H400v160Zm0 220h160v-160H400v160ZM180-400h160v-160H180v160Zm440 0h160v-160H620v160ZM180-180h160v-160H180v160Zm440 0h160v-160H620v160Z\"/>\n",
              "  </svg>\n",
              "    </button>\n",
              "\n",
              "  <style>\n",
              "    .colab-df-container {\n",
              "      display:flex;\n",
              "      gap: 12px;\n",
              "    }\n",
              "\n",
              "    .colab-df-convert {\n",
              "      background-color: #E8F0FE;\n",
              "      border: none;\n",
              "      border-radius: 50%;\n",
              "      cursor: pointer;\n",
              "      display: none;\n",
              "      fill: #1967D2;\n",
              "      height: 32px;\n",
              "      padding: 0 0 0 0;\n",
              "      width: 32px;\n",
              "    }\n",
              "\n",
              "    .colab-df-convert:hover {\n",
              "      background-color: #E2EBFA;\n",
              "      box-shadow: 0px 1px 2px rgba(60, 64, 67, 0.3), 0px 1px 3px 1px rgba(60, 64, 67, 0.15);\n",
              "      fill: #174EA6;\n",
              "    }\n",
              "\n",
              "    .colab-df-buttons div {\n",
              "      margin-bottom: 4px;\n",
              "    }\n",
              "\n",
              "    [theme=dark] .colab-df-convert {\n",
              "      background-color: #3B4455;\n",
              "      fill: #D2E3FC;\n",
              "    }\n",
              "\n",
              "    [theme=dark] .colab-df-convert:hover {\n",
              "      background-color: #434B5C;\n",
              "      box-shadow: 0px 1px 3px 1px rgba(0, 0, 0, 0.15);\n",
              "      filter: drop-shadow(0px 1px 2px rgba(0, 0, 0, 0.3));\n",
              "      fill: #FFFFFF;\n",
              "    }\n",
              "  </style>\n",
              "\n",
              "    <script>\n",
              "      const buttonEl =\n",
              "        document.querySelector('#df-658f0de6-c597-425e-86c1-6e7fdfdf05b9 button.colab-df-convert');\n",
              "      buttonEl.style.display =\n",
              "        google.colab.kernel.accessAllowed ? 'block' : 'none';\n",
              "\n",
              "      async function convertToInteractive(key) {\n",
              "        const element = document.querySelector('#df-658f0de6-c597-425e-86c1-6e7fdfdf05b9');\n",
              "        const dataTable =\n",
              "          await google.colab.kernel.invokeFunction('convertToInteractive',\n",
              "                                                    [key], {});\n",
              "        if (!dataTable) return;\n",
              "\n",
              "        const docLinkHtml = 'Like what you see? Visit the ' +\n",
              "          '<a target=\"_blank\" href=https://colab.research.google.com/notebooks/data_table.ipynb>data table notebook</a>'\n",
              "          + ' to learn more about interactive tables.';\n",
              "        element.innerHTML = '';\n",
              "        dataTable['output_type'] = 'display_data';\n",
              "        await google.colab.output.renderOutput(dataTable, element);\n",
              "        const docLink = document.createElement('div');\n",
              "        docLink.innerHTML = docLinkHtml;\n",
              "        element.appendChild(docLink);\n",
              "      }\n",
              "    </script>\n",
              "  </div>\n",
              "\n",
              "\n",
              "<div id=\"df-7bd7c439-65f7-4615-b2f5-b3f8a8c4c010\">\n",
              "  <button class=\"colab-df-quickchart\" onclick=\"quickchart('df-7bd7c439-65f7-4615-b2f5-b3f8a8c4c010')\"\n",
              "            title=\"Suggest charts\"\n",
              "            style=\"display:none;\">\n",
              "\n",
              "<svg xmlns=\"http://www.w3.org/2000/svg\" height=\"24px\"viewBox=\"0 0 24 24\"\n",
              "     width=\"24px\">\n",
              "    <g>\n",
              "        <path d=\"M19 3H5c-1.1 0-2 .9-2 2v14c0 1.1.9 2 2 2h14c1.1 0 2-.9 2-2V5c0-1.1-.9-2-2-2zM9 17H7v-7h2v7zm4 0h-2V7h2v10zm4 0h-2v-4h2v4z\"/>\n",
              "    </g>\n",
              "</svg>\n",
              "  </button>\n",
              "\n",
              "<style>\n",
              "  .colab-df-quickchart {\n",
              "      --bg-color: #E8F0FE;\n",
              "      --fill-color: #1967D2;\n",
              "      --hover-bg-color: #E2EBFA;\n",
              "      --hover-fill-color: #174EA6;\n",
              "      --disabled-fill-color: #AAA;\n",
              "      --disabled-bg-color: #DDD;\n",
              "  }\n",
              "\n",
              "  [theme=dark] .colab-df-quickchart {\n",
              "      --bg-color: #3B4455;\n",
              "      --fill-color: #D2E3FC;\n",
              "      --hover-bg-color: #434B5C;\n",
              "      --hover-fill-color: #FFFFFF;\n",
              "      --disabled-bg-color: #3B4455;\n",
              "      --disabled-fill-color: #666;\n",
              "  }\n",
              "\n",
              "  .colab-df-quickchart {\n",
              "    background-color: var(--bg-color);\n",
              "    border: none;\n",
              "    border-radius: 50%;\n",
              "    cursor: pointer;\n",
              "    display: none;\n",
              "    fill: var(--fill-color);\n",
              "    height: 32px;\n",
              "    padding: 0;\n",
              "    width: 32px;\n",
              "  }\n",
              "\n",
              "  .colab-df-quickchart:hover {\n",
              "    background-color: var(--hover-bg-color);\n",
              "    box-shadow: 0 1px 2px rgba(60, 64, 67, 0.3), 0 1px 3px 1px rgba(60, 64, 67, 0.15);\n",
              "    fill: var(--button-hover-fill-color);\n",
              "  }\n",
              "\n",
              "  .colab-df-quickchart-complete:disabled,\n",
              "  .colab-df-quickchart-complete:disabled:hover {\n",
              "    background-color: var(--disabled-bg-color);\n",
              "    fill: var(--disabled-fill-color);\n",
              "    box-shadow: none;\n",
              "  }\n",
              "\n",
              "  .colab-df-spinner {\n",
              "    border: 2px solid var(--fill-color);\n",
              "    border-color: transparent;\n",
              "    border-bottom-color: var(--fill-color);\n",
              "    animation:\n",
              "      spin 1s steps(1) infinite;\n",
              "  }\n",
              "\n",
              "  @keyframes spin {\n",
              "    0% {\n",
              "      border-color: transparent;\n",
              "      border-bottom-color: var(--fill-color);\n",
              "      border-left-color: var(--fill-color);\n",
              "    }\n",
              "    20% {\n",
              "      border-color: transparent;\n",
              "      border-left-color: var(--fill-color);\n",
              "      border-top-color: var(--fill-color);\n",
              "    }\n",
              "    30% {\n",
              "      border-color: transparent;\n",
              "      border-left-color: var(--fill-color);\n",
              "      border-top-color: var(--fill-color);\n",
              "      border-right-color: var(--fill-color);\n",
              "    }\n",
              "    40% {\n",
              "      border-color: transparent;\n",
              "      border-right-color: var(--fill-color);\n",
              "      border-top-color: var(--fill-color);\n",
              "    }\n",
              "    60% {\n",
              "      border-color: transparent;\n",
              "      border-right-color: var(--fill-color);\n",
              "    }\n",
              "    80% {\n",
              "      border-color: transparent;\n",
              "      border-right-color: var(--fill-color);\n",
              "      border-bottom-color: var(--fill-color);\n",
              "    }\n",
              "    90% {\n",
              "      border-color: transparent;\n",
              "      border-bottom-color: var(--fill-color);\n",
              "    }\n",
              "  }\n",
              "</style>\n",
              "\n",
              "  <script>\n",
              "    async function quickchart(key) {\n",
              "      const quickchartButtonEl =\n",
              "        document.querySelector('#' + key + ' button');\n",
              "      quickchartButtonEl.disabled = true;  // To prevent multiple clicks.\n",
              "      quickchartButtonEl.classList.add('colab-df-spinner');\n",
              "      try {\n",
              "        const charts = await google.colab.kernel.invokeFunction(\n",
              "            'suggestCharts', [key], {});\n",
              "      } catch (error) {\n",
              "        console.error('Error during call to suggestCharts:', error);\n",
              "      }\n",
              "      quickchartButtonEl.classList.remove('colab-df-spinner');\n",
              "      quickchartButtonEl.classList.add('colab-df-quickchart-complete');\n",
              "    }\n",
              "    (() => {\n",
              "      let quickchartButtonEl =\n",
              "        document.querySelector('#df-7bd7c439-65f7-4615-b2f5-b3f8a8c4c010 button');\n",
              "      quickchartButtonEl.style.display =\n",
              "        google.colab.kernel.accessAllowed ? 'block' : 'none';\n",
              "    })();\n",
              "  </script>\n",
              "</div>\n",
              "    </div>\n",
              "  </div>\n"
            ]
          },
          "metadata": {},
          "execution_count": 800
        }
      ]
    },
    {
      "cell_type": "markdown",
      "source": [
        "Датасет готов к дальнейшей работе"
      ],
      "metadata": {
        "id": "Avp3Z_klvvaV"
      }
    },
    {
      "cell_type": "code",
      "source": [
        "df.to_csv('laptop-clean.csv', index=False)\n",
        "!cp laptop-clean.csv \"/content/drive/MyDrive/Colab Notebooks/\""
      ],
      "metadata": {
        "id": "MQlmldNLvxyh"
      },
      "execution_count": null,
      "outputs": []
    },
    {
      "cell_type": "code",
      "source": [
        "df1=pd.read_csv('laptop-clean.csv')\n",
        "df_clean=df1.copy()"
      ],
      "metadata": {
        "id": "V0h2DVXKBtqc"
      },
      "execution_count": null,
      "outputs": []
    },
    {
      "cell_type": "markdown",
      "source": [
        "# Анализ данных"
      ],
      "metadata": {
        "id": "BVzyOGMF_XH9"
      }
    },
    {
      "cell_type": "code",
      "source": [
        "class LaptopPricePrediction:\n",
        "    def __init__(self, model):\n",
        "        self.model = model\n",
        "\n",
        "    def first_view(self, csv_file):\n",
        "        df = pd.read_csv(csv_file)\n",
        "        return df.info(), df.describe()\n",
        "\n",
        "    def data_loader(self, csv_file, encoding):\n",
        "        dataframe = pd.read_csv(csv_file, encoding=encoding)\n",
        "        #print(\"Column names:\", dataframe.columns)\n",
        "        return dataframe\n",
        "\n",
        "    def cor_mat(self, data_clear):\n",
        "        # Матрица корреляций\n",
        "        plt.figure(figsize=(6,5))\n",
        "        sns.heatmap(data_clear.corr(), cmap=\"BuPu\", annot=True, vmin=-1, vmax=1)\n",
        "        plt.title('Матрица корреляций')\n",
        "        plt.show()\n",
        "\n",
        "    def get_plot(self, data_clear, plot_type):\n",
        "        # График количество/нечто\n",
        "        fig, ax = plt.subplots(1, 1, figsize=(8,5))\n",
        "        sns.histplot(x=plot_type, data=data_clear, ax=ax)\n",
        "        ax.set_xlabel(plot_type, fontsize=16)\n",
        "        plt.tight_layout()\n",
        "        plt.show()\n",
        "\n",
        "    def get_memory_data(self, data_clear):\n",
        "        # Емкость основного жесткого диска\n",
        "        fig, ax  = plt.subplots(figsize=(8,5))\n",
        "        ax=sns.countplot(x='memory_1_sto', data=data_clear, hue='memory_1_type')\n",
        "        ax.set_xticklabels(ax.get_xticklabels(), rotation=90)\n",
        "        ax.set_xlabel('Емкость основного жесткого диска')\n",
        "        plt.legend(loc='upper left', ncol=1, fontsize=15, fancybox=True, shadow=True, frameon=True)\n",
        "        plt.show()\n",
        "\n",
        "        # Емкость дополнительного жесткого диска\n",
        "        fig, ax  = plt.subplots(figsize=(8,5))\n",
        "        ax=sns.countplot(x='memory_2_sto', data=data_clear, hue='memory_2_type')\n",
        "        ax.set_xticklabels(ax.get_xticklabels(), rotation=90)\n",
        "        ax.set_xlabel('Емкость дополнительного жесткого диска')\n",
        "        plt.legend(loc='upper left', ncol=1, fontsize=15, fancybox=True, shadow=True, frameon=True)\n",
        "        plt.show()\n",
        "\n",
        "    def data_preparing(self, data_clear):\n",
        "        df = data_clear\n",
        "        y = df['price']\n",
        "        X = df.drop('price', axis=1)\n",
        "        X = X.select_dtypes(include=['number']).values\n",
        "        y = y.values\n",
        "        X_train, X_test, y_train, y_test = train_test_split(X, y, test_size = 0.3, random_state = seed)\n",
        "        return X_train, X_test, y_train, y_test\n",
        "\n",
        "    def fit(self, X_train, y_train):\n",
        "        self.model.fit(X_train, y_train)\n",
        "\n",
        "    def predict(self, X_test):\n",
        "        y_pred = self.model.predict(X_test)\n",
        "        return y_pred\n",
        "\n",
        "    def visualization(self, y_test, y_pred):\n",
        "        plt.figure(figsize=(10, 7))\n",
        "        plt.scatter(y_test, y_pred)\n",
        "        plt.plot([y_test.min(), y_test.max()], [y_test.min(), y_test.max()], \"k--\", color=\"red\")\n",
        "        plt.xlabel('Фактические', weight=\"bold\")\n",
        "        plt.ylabel('Прогнозируемые', weight=\"bold\")\n",
        "        plt.grid(color='black', linestyle='--', linewidth=0.2)\n",
        "        plt.title('Фактические значения vs прогнозируемые значения')\n",
        "        plt.show()\n",
        "        mse_rf = mean_squared_error((y_test), (y_pred))\n",
        "        print(\"RMSE: {} $ \".format(np.round(np.sqrt(mse_rf)),4))\n",
        "        print(\"R2: {:.2f} %\".format(np.round(r2_score(y_test, y_pred),4)*100))"
      ],
      "metadata": {
        "id": "SXWel-5rAr-b"
      },
      "execution_count": null,
      "outputs": []
    },
    {
      "cell_type": "code",
      "source": [
        "# Использование класса для анализа ноутбуков\n",
        "laptop_model = LaptopPricePrediction(RandomForestRegressor(n_estimators=100, max_depth=100, max_features=15))\n",
        "# Загрузка датасета\n",
        "data_laptop = laptop_model.data_loader(\"/content/drive/MyDrive/Colab Notebooks/laptop-clean.csv\", encoding='latin1')"
      ],
      "metadata": {
        "id": "fZOPCeY_A1Oo"
      },
      "execution_count": null,
      "outputs": []
    },
    {
      "cell_type": "markdown",
      "source": [
        "## Матрица корреляций"
      ],
      "metadata": {
        "id": "ECCjL7F8urfB"
      }
    },
    {
      "cell_type": "code",
      "source": [
        "laptop_model.cor_mat(data_laptop)"
      ],
      "metadata": {
        "colab": {
          "base_uri": "https://localhost:8080/",
          "height": 611
        },
        "id": "Iw6suzqtHnYG",
        "outputId": "a8c7a330-0a8d-410d-8b25-cf8eb02c4768"
      },
      "execution_count": null,
      "outputs": [
        {
          "output_type": "stream",
          "name": "stderr",
          "text": [
            "<ipython-input-861-6e1476777a89>:17: FutureWarning: The default value of numeric_only in DataFrame.corr is deprecated. In a future version, it will default to False. Select only valid columns or specify the value of numeric_only to silence this warning.\n",
            "  sns.heatmap(data_clear.corr(), cmap=\"BuPu\", annot=True, vmin=-1, vmax=1)\n"
          ]
        },
        {
          "output_type": "display_data",
          "data": {
            "text/plain": [
              "<Figure size 600x500 with 2 Axes>"
            ],
            "image/png": "[encoded data removed]"
          },
          "metadata": {}
        }
      ]
    },
    {
      "cell_type": "markdown",
      "source": [
        "## Графики"
      ],
      "metadata": {
        "id": "9FY_xQJ5uwLI"
      }
    },
    {
      "cell_type": "code",
      "source": [
        "data_laptop.plot.scatter(x=\"inches\", y=\"weight\");"
      ],
      "metadata": {
        "colab": {
          "base_uri": "https://localhost:8080/",
          "height": 449
        },
        "id": "DEF1zWpm0BZE",
        "outputId": "84fd7ff8-e467-416c-f2d3-8909a9773172"
      },
      "execution_count": null,
      "outputs": [
        {
          "output_type": "display_data",
          "data": {
            "text/plain": [
              "<Figure size 640x480 with 1 Axes>"
            ],
            "image/png": "[encoded data removed]"
          },
          "metadata": {}
        }
      ]
    },
    {
      "cell_type": "code",
      "source": [
        "data_laptop.plot.scatter(x=\"ram\", y=\"price\");"
      ],
      "metadata": {
        "colab": {
          "base_uri": "https://localhost:8080/",
          "height": 449
        },
        "id": "d_O_48F517bt",
        "outputId": "e32184bd-9c78-4894-ba4c-a6dff6a93473"
      },
      "execution_count": null,
      "outputs": [
        {
          "output_type": "display_data",
          "data": {
            "text/plain": [
              "<Figure size 640x480 with 1 Axes>"
            ],
            "image/png": "[encoded data removed]"
          },
          "metadata": {}
        }
      ]
    },
    {
      "cell_type": "code",
      "source": [
        "# Компании с наибольшим числом ноутбуков\n",
        "fig, ax  = plt.subplots(figsize=(10,5))\n",
        "ax=sns.countplot(x='company', data=data_laptop, order = df['company'].value_counts().index)\n",
        "ax.set_xticklabels(ax.get_xticklabels(), rotation=80)\n",
        "ax.bar_label(ax.containers[0])\n",
        "plt.title('Количество ноутбуков по компаниям:')\n",
        "plt.show()"
      ],
      "metadata": {
        "colab": {
          "base_uri": "https://localhost:8080/",
          "height": 546
        },
        "id": "dW0cFsBduSZw",
        "outputId": "5f0a892a-5135-45b4-a3cf-60e6519c950c"
      },
      "execution_count": null,
      "outputs": [
        {
          "output_type": "display_data",
          "data": {
            "text/plain": [
              "<Figure size 1000x500 with 1 Axes>"
            ],
            "image/png": "[encoded data removed]"
          },
          "metadata": {}
        }
      ]
    },
    {
      "cell_type": "code",
      "source": [
        "plt.figure(figsize=(9,5))\n",
        "ax=sns.barplot(x='company', y='price', data=df_clean[df_clean['company'].isin(df['company'].value_counts().index[:8].tolist())],\n",
        "                order=df['company'].value_counts().index[:8].tolist(),\n",
        "                errorbar=('ci', False))\n",
        "plt.xticks(rotation=80);\n",
        "ax.bar_label(ax.containers[0])\n",
        "plt.title('Средняя стоимость ноутбуков по компаниям')\n",
        "plt.show()"
      ],
      "metadata": {
        "colab": {
          "base_uri": "https://localhost:8080/",
          "height": 527
        },
        "id": "shP2xihzwriH",
        "outputId": "e0921310-405e-4de5-9ecc-9b6bdcf92e00"
      },
      "execution_count": null,
      "outputs": [
        {
          "output_type": "display_data",
          "data": {
            "text/plain": [
              "<Figure size 900x500 with 1 Axes>"
            ],
            "image/png": "[encoded data removed]"
          },
          "metadata": {}
        }
      ]
    },
    {
      "cell_type": "code",
      "source": [
        "fig, ax  = plt.subplots(figsize=(10,5))\n",
        "ax=sns.countplot(x='opsys', data=data_laptop, order = df['opsys'].value_counts().index)\n",
        "ax.set_xticklabels(ax.get_xticklabels(), rotation=80)\n",
        "ax.bar_label(ax.containers[0])\n",
        "plt.show()"
      ],
      "metadata": {
        "colab": {
          "base_uri": "https://localhost:8080/",
          "height": 549
        },
        "id": "keBljCPDv5OF",
        "outputId": "161aeee2-8196-44a4-bc90-29af8c9b378a"
      },
      "execution_count": null,
      "outputs": [
        {
          "output_type": "display_data",
          "data": {
            "text/plain": [
              "<Figure size 1000x500 with 1 Axes>"
            ],
            "image/png": "[encoded data removed]"
          },
          "metadata": {}
        }
      ]
    },
    {
      "cell_type": "code",
      "source": [
        "laptop_model.get_plot(data_laptop, 'price')"
      ],
      "metadata": {
        "colab": {
          "base_uri": "https://localhost:8080/",
          "height": 506
        },
        "id": "0Di4TF0uBbxO",
        "outputId": "0dbf72d2-f100-4c61-cc0c-88143befb27e"
      },
      "execution_count": null,
      "outputs": [
        {
          "output_type": "display_data",
          "data": {
            "text/plain": [
              "<Figure size 800x500 with 1 Axes>"
            ],
            "image/png": "[encoded data removed]"
          },
          "metadata": {}
        }
      ]
    },
    {
      "cell_type": "code",
      "source": [
        "laptop_model.get_plot(data_laptop, 'ram')"
      ],
      "metadata": {
        "id": "DRh9Y7rjWO6D",
        "colab": {
          "base_uri": "https://localhost:8080/",
          "height": 506
        },
        "outputId": "4f4b9fdf-85bb-4e44-ab92-e5e5d48697e5"
      },
      "execution_count": null,
      "outputs": [
        {
          "output_type": "display_data",
          "data": {
            "text/plain": [
              "<Figure size 800x500 with 1 Axes>"
            ],
            "image/png": "[encoded data removed]"
          },
          "metadata": {}
        }
      ]
    },
    {
      "cell_type": "code",
      "source": [
        "laptop_model.get_plot(data_laptop, 'cpu_freq')"
      ],
      "metadata": {
        "colab": {
          "base_uri": "https://localhost:8080/",
          "height": 507
        },
        "id": "uBvrSSdsX8iQ",
        "outputId": "255cb2f7-ba24-40d6-e741-703799a455f2"
      },
      "execution_count": null,
      "outputs": [
        {
          "output_type": "display_data",
          "data": {
            "text/plain": [
              "<Figure size 800x500 with 1 Axes>"
            ],
            "image/png": "[encoded data removed]"
          },
          "metadata": {}
        }
      ]
    },
    {
      "cell_type": "code",
      "source": [
        "laptop_model.get_plot(data_laptop, 'weight')"
      ],
      "metadata": {
        "colab": {
          "base_uri": "https://localhost:8080/",
          "height": 507
        },
        "id": "ztilEZvjYDxr",
        "outputId": "0363b832-c3c2-4505-903a-e89cf81c199e"
      },
      "execution_count": null,
      "outputs": [
        {
          "output_type": "display_data",
          "data": {
            "text/plain": [
              "<Figure size 800x500 with 1 Axes>"
            ],
            "image/png": "[encoded data removed]"
          },
          "metadata": {}
        }
      ]
    },
    {
      "cell_type": "code",
      "source": [
        "laptop_model.get_plot(data_laptop, 'typename')"
      ],
      "metadata": {
        "colab": {
          "base_uri": "https://localhost:8080/",
          "height": 507
        },
        "id": "C-DaYNI-YPZf",
        "outputId": "5575ea58-a4db-409a-f945-436bf3ff70b6"
      },
      "execution_count": null,
      "outputs": [
        {
          "output_type": "display_data",
          "data": {
            "text/plain": [
              "<Figure size 800x500 with 1 Axes>"
            ],
            "image/png": "[encoded data removed]"
          },
          "metadata": {}
        }
      ]
    },
    {
      "cell_type": "code",
      "source": [
        "laptop_model.get_plot(data_laptop, 'inches')"
      ],
      "metadata": {
        "colab": {
          "base_uri": "https://localhost:8080/",
          "height": 507
        },
        "id": "xa3COYZrYbcQ",
        "outputId": "538402d0-1fb7-4e57-ca5d-39499b0a7da5"
      },
      "execution_count": null,
      "outputs": [
        {
          "output_type": "display_data",
          "data": {
            "text/plain": [
              "<Figure size 800x500 with 1 Axes>"
            ],
            "image/png": "[encoded data removed]"
          },
          "metadata": {}
        }
      ]
    },
    {
      "cell_type": "code",
      "source": [
        "laptop_model.get_memory_data(data_laptop)"
      ],
      "metadata": {
        "colab": {
          "base_uri": "https://localhost:8080/",
          "height": 981
        },
        "id": "RFHtn3Q-YtwR",
        "outputId": "caa18ea5-6136-4a02-906c-d13f47e53af4"
      },
      "execution_count": null,
      "outputs": [
        {
          "output_type": "display_data",
          "data": {
            "text/plain": [
              "<Figure size 800x500 with 1 Axes>"
            ],
            "image/png": "[encoded data removed]"
          },
          "metadata": {}
        },
        {
          "output_type": "display_data",
          "data": {
            "text/plain": [
              "<Figure size 800x500 with 1 Axes>"
            ],
            "image/png": "[encoded data removed]"
          },
          "metadata": {}
        }
      ]
    },
    {
      "cell_type": "markdown",
      "source": [
        "## Обучение модели"
      ],
      "metadata": {
        "id": "vvdWeh2LcQgA"
      }
    },
    {
      "cell_type": "code",
      "source": [
        "# Подготовка данных\n",
        "X_train, X_test, y_train, y_test = laptop_model.data_preparing(data_laptop)\n",
        "# Обучение модели\n",
        "laptop_model.fit(X_train, y_train)\n",
        "y_pred = laptop_model.predict(X_test)\n",
        "# Результаты\n",
        "laptop_model.visualization(y_test, y_pred)"
      ],
      "metadata": {
        "colab": {
          "base_uri": "https://localhost:8080/",
          "height": 730
        },
        "id": "NEE-NYepY4T7",
        "outputId": "6b3aff99-fb49-4df2-98aa-458945473739"
      },
      "execution_count": null,
      "outputs": [
        {
          "output_type": "stream",
          "name": "stderr",
          "text": [
            "<ipython-input-861-6e1476777a89>:65: UserWarning: color is redundantly defined by the 'color' keyword argument and the fmt string \"k--\" (-> color='k'). The keyword argument will take precedence.\n",
            "  plt.plot([y_test.min(), y_test.max()], [y_test.min(), y_test.max()], \"k--\", color=\"red\")\n"
          ]
        },
        {
          "output_type": "display_data",
          "data": {
            "text/plain": [
              "<Figure size 1000x700 with 1 Axes>"
            ],
            "image/png": "[encoded data removed]"
          },
          "metadata": {}
        },
        {
          "output_type": "stream",
          "name": "stdout",
          "text": [
            "RMSE: 279.0 $ \n",
            "R2: 78.68 %\n"
          ]
        }
      ]
    },
    {
      "cell_type": "code",
      "source": [],
      "metadata": {
        "id": "Rc_Q01u4kQsL"
      },
      "execution_count": null,
      "outputs": []
    }
  ]
}